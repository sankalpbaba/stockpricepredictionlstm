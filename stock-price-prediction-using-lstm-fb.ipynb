{
 "cells": [
  {
   "cell_type": "code",
   "execution_count": 1,
   "id": "1524d277",
   "metadata": {
    "_kg_hide-input": true,
    "execution": {
     "iopub.execute_input": "2021-11-29T13:50:24.240758Z",
     "iopub.status.busy": "2021-11-29T13:50:24.239966Z",
     "iopub.status.idle": "2021-11-29T13:50:24.243586Z",
     "shell.execute_reply": "2021-11-29T13:50:24.243082Z",
     "shell.execute_reply.started": "2021-11-29T13:48:54.348106Z"
    },
    "id": "rG29jnHE2JsP",
    "papermill": {
     "duration": 0.036026,
     "end_time": "2021-11-29T13:50:24.243716",
     "exception": false,
     "start_time": "2021-11-29T13:50:24.207690",
     "status": "completed"
    },
    "tags": []
   },
   "outputs": [],
   "source": [
    "import warnings\n",
    "warnings.filterwarnings('ignore')"
   ]
  },
  {
   "cell_type": "code",
   "execution_count": 2,
   "id": "d23f81d1",
   "metadata": {
    "execution": {
     "iopub.execute_input": "2021-11-29T13:50:24.293474Z",
     "iopub.status.busy": "2021-11-29T13:50:24.292628Z",
     "iopub.status.idle": "2021-11-29T13:50:24.294413Z",
     "shell.execute_reply": "2021-11-29T13:50:24.294872Z",
     "shell.execute_reply.started": "2021-11-29T13:48:54.354754Z"
    },
    "id": "DXL9UGER2bMy",
    "papermill": {
     "duration": 0.028698,
     "end_time": "2021-11-29T13:50:24.294994",
     "exception": false,
     "start_time": "2021-11-29T13:50:24.266296",
     "status": "completed"
    },
    "tags": []
   },
   "outputs": [],
   "source": [
    "# Importing required libraries\n",
    "import pandas as pd\n",
    "import numpy as np\n",
    "import matplotlib.pyplot as plt"
   ]
  },
  {
   "cell_type": "code",
   "execution_count": 3,
   "id": "c453fc1b",
   "metadata": {
    "execution": {
     "iopub.execute_input": "2021-11-29T13:50:24.344143Z",
     "iopub.status.busy": "2021-11-29T13:50:24.343467Z",
     "iopub.status.idle": "2021-11-29T13:50:24.391560Z",
     "shell.execute_reply": "2021-11-29T13:50:24.392000Z",
     "shell.execute_reply.started": "2021-11-29T13:48:54.366469Z"
    },
    "id": "KFlX32E32b-h",
    "outputId": "5bba8fed-4c90-42e1-8119-e998b57ee8f7",
    "papermill": {
     "duration": 0.074661,
     "end_time": "2021-11-29T13:50:24.392144",
     "exception": false,
     "start_time": "2021-11-29T13:50:24.317483",
     "status": "completed"
    },
    "tags": []
   },
   "outputs": [
    {
     "data": {
      "text/html": [
       "<div>\n",
       "<style scoped>\n",
       "    .dataframe tbody tr th:only-of-type {\n",
       "        vertical-align: middle;\n",
       "    }\n",
       "\n",
       "    .dataframe tbody tr th {\n",
       "        vertical-align: top;\n",
       "    }\n",
       "\n",
       "    .dataframe thead th {\n",
       "        text-align: right;\n",
       "    }\n",
       "</style>\n",
       "<table border=\"1\" class=\"dataframe\">\n",
       "  <thead>\n",
       "    <tr style=\"text-align: right;\">\n",
       "      <th></th>\n",
       "      <th>Date</th>\n",
       "      <th>Open</th>\n",
       "      <th>High</th>\n",
       "      <th>Low</th>\n",
       "      <th>Close</th>\n",
       "      <th>Adj Close</th>\n",
       "      <th>Volume</th>\n",
       "    </tr>\n",
       "  </thead>\n",
       "  <tbody>\n",
       "    <tr>\n",
       "      <th>0</th>\n",
       "      <td>2015-01-29</td>\n",
       "      <td>67.300003</td>\n",
       "      <td>67.980003</td>\n",
       "      <td>65.690002</td>\n",
       "      <td>67.029999</td>\n",
       "      <td>67.029999</td>\n",
       "      <td>1716</td>\n",
       "    </tr>\n",
       "    <tr>\n",
       "      <th>1</th>\n",
       "      <td>2015-01-30</td>\n",
       "      <td>69.269997</td>\n",
       "      <td>69.269997</td>\n",
       "      <td>68.889999</td>\n",
       "      <td>68.889999</td>\n",
       "      <td>68.889999</td>\n",
       "      <td>560</td>\n",
       "    </tr>\n",
       "    <tr>\n",
       "      <th>2</th>\n",
       "      <td>2015-02-02</td>\n",
       "      <td>67.639999</td>\n",
       "      <td>67.639999</td>\n",
       "      <td>66.000000</td>\n",
       "      <td>66.070000</td>\n",
       "      <td>66.070000</td>\n",
       "      <td>429</td>\n",
       "    </tr>\n",
       "    <tr>\n",
       "      <th>3</th>\n",
       "      <td>2015-02-03</td>\n",
       "      <td>66.339996</td>\n",
       "      <td>66.500000</td>\n",
       "      <td>66.269997</td>\n",
       "      <td>66.470001</td>\n",
       "      <td>66.470001</td>\n",
       "      <td>128</td>\n",
       "    </tr>\n",
       "    <tr>\n",
       "      <th>4</th>\n",
       "      <td>2015-02-04</td>\n",
       "      <td>65.309998</td>\n",
       "      <td>66.089996</td>\n",
       "      <td>65.309998</td>\n",
       "      <td>66.089996</td>\n",
       "      <td>66.089996</td>\n",
       "      <td>230</td>\n",
       "    </tr>\n",
       "  </tbody>\n",
       "</table>\n",
       "</div>"
      ],
      "text/plain": [
       "         Date       Open       High        Low      Close  Adj Close  Volume\n",
       "0  2015-01-29  67.300003  67.980003  65.690002  67.029999  67.029999    1716\n",
       "1  2015-01-30  69.269997  69.269997  68.889999  68.889999  68.889999     560\n",
       "2  2015-02-02  67.639999  67.639999  66.000000  66.070000  66.070000     429\n",
       "3  2015-02-03  66.339996  66.500000  66.269997  66.470001  66.470001     128\n",
       "4  2015-02-04  65.309998  66.089996  65.309998  66.089996  66.089996     230"
      ]
     },
     "execution_count": 3,
     "metadata": {},
     "output_type": "execute_result"
    }
   ],
   "source": [
    "fb_stock_data = pd.read_csv('FB2ABE.csv')\n",
    "fb_stock_data.head()"
   ]
  },
  {
   "cell_type": "code",
   "execution_count": 4,
   "id": "e9895bbf",
   "metadata": {
    "execution": {
     "iopub.execute_input": "2021-11-29T13:50:24.446054Z",
     "iopub.status.busy": "2021-11-29T13:50:24.445242Z",
     "iopub.status.idle": "2021-11-29T13:50:24.462449Z",
     "shell.execute_reply": "2021-11-29T13:50:24.463027Z",
     "shell.execute_reply.started": "2021-11-29T13:48:54.399710Z"
    },
    "id": "rD5muzWA2cBd",
    "outputId": "8a62ca3b-b1c7-4b31-d097-f2f6184e438f",
    "papermill": {
     "duration": 0.047642,
     "end_time": "2021-11-29T13:50:24.463201",
     "exception": false,
     "start_time": "2021-11-29T13:50:24.415559",
     "status": "completed"
    },
    "tags": []
   },
   "outputs": [
    {
     "name": "stdout",
     "output_type": "stream",
     "text": [
      "<class 'pandas.core.frame.DataFrame'>\n",
      "RangeIndex: 1777 entries, 0 to 1776\n",
      "Data columns (total 7 columns):\n",
      " #   Column     Non-Null Count  Dtype  \n",
      "---  ------     --------------  -----  \n",
      " 0   Date       1777 non-null   object \n",
      " 1   Open       1777 non-null   float64\n",
      " 2   High       1777 non-null   float64\n",
      " 3   Low        1777 non-null   float64\n",
      " 4   Close      1777 non-null   float64\n",
      " 5   Adj Close  1777 non-null   float64\n",
      " 6   Volume     1777 non-null   int64  \n",
      "dtypes: float64(5), int64(1), object(1)\n",
      "memory usage: 97.3+ KB\n"
     ]
    }
   ],
   "source": [
    "fb_stock_data.info()"
   ]
  },
  {
   "cell_type": "code",
   "execution_count": 5,
   "id": "967ae730",
   "metadata": {
    "execution": {
     "iopub.execute_input": "2021-11-29T13:50:24.514533Z",
     "iopub.status.busy": "2021-11-29T13:50:24.513724Z",
     "iopub.status.idle": "2021-11-29T13:50:24.528901Z",
     "shell.execute_reply": "2021-11-29T13:50:24.528442Z",
     "shell.execute_reply.started": "2021-11-29T13:48:54.416152Z"
    },
    "id": "KHpBg4KNnYJB",
    "outputId": "fa98ce9e-66be-478d-dfc5-677f214c2c78",
    "papermill": {
     "duration": 0.040632,
     "end_time": "2021-11-29T13:50:24.529016",
     "exception": false,
     "start_time": "2021-11-29T13:50:24.488384",
     "status": "completed"
    },
    "tags": []
   },
   "outputs": [
    {
     "data": {
      "text/html": [
       "<div>\n",
       "<style scoped>\n",
       "    .dataframe tbody tr th:only-of-type {\n",
       "        vertical-align: middle;\n",
       "    }\n",
       "\n",
       "    .dataframe tbody tr th {\n",
       "        vertical-align: top;\n",
       "    }\n",
       "\n",
       "    .dataframe thead th {\n",
       "        text-align: right;\n",
       "    }\n",
       "</style>\n",
       "<table border=\"1\" class=\"dataframe\">\n",
       "  <thead>\n",
       "    <tr style=\"text-align: right;\">\n",
       "      <th></th>\n",
       "      <th>Open</th>\n",
       "      <th>Close</th>\n",
       "    </tr>\n",
       "    <tr>\n",
       "      <th>Date</th>\n",
       "      <th></th>\n",
       "      <th></th>\n",
       "    </tr>\n",
       "  </thead>\n",
       "  <tbody>\n",
       "    <tr>\n",
       "      <th>2015-01-29</th>\n",
       "      <td>67.300003</td>\n",
       "      <td>67.029999</td>\n",
       "    </tr>\n",
       "    <tr>\n",
       "      <th>2015-01-30</th>\n",
       "      <td>69.269997</td>\n",
       "      <td>68.889999</td>\n",
       "    </tr>\n",
       "    <tr>\n",
       "      <th>2015-02-02</th>\n",
       "      <td>67.639999</td>\n",
       "      <td>66.070000</td>\n",
       "    </tr>\n",
       "    <tr>\n",
       "      <th>2015-02-03</th>\n",
       "      <td>66.339996</td>\n",
       "      <td>66.470001</td>\n",
       "    </tr>\n",
       "    <tr>\n",
       "      <th>2015-02-04</th>\n",
       "      <td>65.309998</td>\n",
       "      <td>66.089996</td>\n",
       "    </tr>\n",
       "  </tbody>\n",
       "</table>\n",
       "</div>"
      ],
      "text/plain": [
       "                 Open      Close\n",
       "Date                            \n",
       "2015-01-29  67.300003  67.029999\n",
       "2015-01-30  69.269997  68.889999\n",
       "2015-02-02  67.639999  66.070000\n",
       "2015-02-03  66.339996  66.470001\n",
       "2015-02-04  65.309998  66.089996"
      ]
     },
     "execution_count": 5,
     "metadata": {},
     "output_type": "execute_result"
    }
   ],
   "source": [
    "fb_stock_data = fb_stock_data[['Date','Open','Close']] # Extracting required columns\n",
    "fb_stock_data['Date'] = pd.to_datetime(fb_stock_data['Date'].apply(lambda x: x.split()[0])) # Selecting only date\n",
    "fb_stock_data.set_index('Date',drop=True,inplace=True) # Setting date column as index\n",
    "fb_stock_data.head()"
   ]
  },
  {
   "cell_type": "code",
   "execution_count": 6,
   "id": "ed6be72d",
   "metadata": {
    "_kg_hide-input": true,
    "execution": {
     "iopub.execute_input": "2021-11-29T13:50:24.595227Z",
     "iopub.status.busy": "2021-11-29T13:50:24.594412Z",
     "iopub.status.idle": "2021-11-29T13:50:25.002816Z",
     "shell.execute_reply": "2021-11-29T13:50:25.003266Z",
     "shell.execute_reply.started": "2021-11-29T13:48:54.433116Z"
    },
    "id": "17mfyZrq2cE9",
    "outputId": "3967e04c-6b57-41fc-84dd-35eecfb15269",
    "papermill": {
     "duration": 0.45005,
     "end_time": "2021-11-29T13:50:25.003414",
     "exception": false,
     "start_time": "2021-11-29T13:50:24.553364",
     "status": "completed"
    },
    "tags": []
   },
   "outputs": [
    {
     "data": {
      "image/png": "[encoded data removed]",
      "text/plain": [
       "<Figure size 1440x504 with 2 Axes>"
      ]
     },
     "metadata": {
      "needs_background": "light"
     },
     "output_type": "display_data"
    }
   ],
   "source": [
    "fg, ax =plt.subplots(1,2,figsize=(20,7))\n",
    "ax[0].plot(fb_stock_data['Open'],label='Open',color='green')\n",
    "ax[0].set_xlabel('Date',size=15)\n",
    "ax[0].set_ylabel('Price',size=15)\n",
    "ax[0].legend()\n",
    "\n",
    "ax[1].plot(fb_stock_data['Close'],label='Close',color='red')\n",
    "ax[1].set_xlabel('Date',size=15)\n",
    "ax[1].set_ylabel('Price',size=15)\n",
    "ax[1].legend()\n",
    "\n",
    "fg.show()"
   ]
  },
  {
   "cell_type": "markdown",
   "id": "f5f7049a",
   "metadata": {
    "id": "PTYHF02Y6B1m",
    "papermill": {
     "duration": 0.025384,
     "end_time": "2021-11-29T13:50:25.054625",
     "exception": false,
     "start_time": "2021-11-29T13:50:25.029241",
     "status": "completed"
    },
    "tags": []
   },
   "source": [
    "# Data Pre-Processing"
   ]
  },
  {
   "cell_type": "code",
   "execution_count": 7,
   "id": "4049b119",
   "metadata": {
    "execution": {
     "iopub.execute_input": "2021-11-29T13:50:25.109737Z",
     "iopub.status.busy": "2021-11-29T13:50:25.109037Z",
     "iopub.status.idle": "2021-11-29T13:50:25.790067Z",
     "shell.execute_reply": "2021-11-29T13:50:25.789144Z",
     "shell.execute_reply.started": "2021-11-29T13:48:54.839900Z"
    },
    "id": "XgHWQ2SK2cH4",
    "papermill": {
     "duration": 0.710426,
     "end_time": "2021-11-29T13:50:25.790212",
     "exception": false,
     "start_time": "2021-11-29T13:50:25.079786",
     "status": "completed"
    },
    "tags": []
   },
   "outputs": [],
   "source": [
    "from sklearn.preprocessing import MinMaxScaler\n",
    "MMS = MinMaxScaler()\n",
    "fb_stock_data[fb_stock_data.columns] = MMS.fit_transform(fb_stock_data)"
   ]
  },
  {
   "cell_type": "code",
   "execution_count": 8,
   "id": "ff1cc5d7",
   "metadata": {
    "execution": {
     "iopub.execute_input": "2021-11-29T13:50:25.846038Z",
     "iopub.status.busy": "2021-11-29T13:50:25.845174Z",
     "iopub.status.idle": "2021-11-29T13:50:25.848738Z",
     "shell.execute_reply": "2021-11-29T13:50:25.848236Z",
     "shell.execute_reply.started": "2021-11-29T13:48:54.851721Z"
    },
    "id": "vUhYPfaR2cP0",
    "outputId": "8037611d-ad8d-4be7-ae8e-2482c6204932",
    "papermill": {
     "duration": 0.033285,
     "end_time": "2021-11-29T13:50:25.848868",
     "exception": false,
     "start_time": "2021-11-29T13:50:25.815583",
     "status": "completed"
    },
    "tags": []
   },
   "outputs": [
    {
     "data": {
      "text/plain": [
       "(1777, 2)"
      ]
     },
     "execution_count": 8,
     "metadata": {},
     "output_type": "execute_result"
    }
   ],
   "source": [
    "fb_stock_data.shape"
   ]
  },
  {
   "cell_type": "code",
   "execution_count": 9,
   "id": "481642fe",
   "metadata": {
    "execution": {
     "iopub.execute_input": "2021-11-29T13:50:25.904935Z",
     "iopub.status.busy": "2021-11-29T13:50:25.904184Z",
     "iopub.status.idle": "2021-11-29T13:50:25.907484Z",
     "shell.execute_reply": "2021-11-29T13:50:25.907086Z",
     "shell.execute_reply.started": "2021-11-29T13:48:54.860935Z"
    },
    "id": "o4shudsl2cS3",
    "outputId": "885f7989-ad9c-4723-9626-54b58b382c1e",
    "papermill": {
     "duration": 0.033078,
     "end_time": "2021-11-29T13:50:25.907591",
     "exception": false,
     "start_time": "2021-11-29T13:50:25.874513",
     "status": "completed"
    },
    "tags": []
   },
   "outputs": [
    {
     "data": {
      "text/plain": [
       "1422"
      ]
     },
     "execution_count": 9,
     "metadata": {},
     "output_type": "execute_result"
    }
   ],
   "source": [
    "training_size = round(len(fb_stock_data) * 0.80) # Selecting 80 % for training and 20 % for testing\n",
    "training_size"
   ]
  },
  {
   "cell_type": "code",
   "execution_count": 10,
   "id": "f2dda89b",
   "metadata": {
    "execution": {
     "iopub.execute_input": "2021-11-29T13:50:25.971799Z",
     "iopub.status.busy": "2021-11-29T13:50:25.969611Z",
     "iopub.status.idle": "2021-11-29T13:50:25.974770Z",
     "shell.execute_reply": "2021-11-29T13:50:25.975457Z",
     "shell.execute_reply.started": "2021-11-29T13:48:54.870555Z"
    },
    "id": "XWI_TMQC2cWB",
    "outputId": "1cf28a43-311a-4ef4-db20-d3f22c7ef51e",
    "papermill": {
     "duration": 0.042465,
     "end_time": "2021-11-29T13:50:25.975637",
     "exception": false,
     "start_time": "2021-11-29T13:50:25.933172",
     "status": "completed"
    },
    "tags": []
   },
   "outputs": [
    {
     "data": {
      "text/plain": [
       "((1422, 2), (355, 2))"
      ]
     },
     "execution_count": 10,
     "metadata": {},
     "output_type": "execute_result"
    }
   ],
   "source": [
    "train_data = fb_stock_data[:training_size]\n",
    "test_data  = fb_stock_data[training_size:]\n",
    "\n",
    "train_data.shape, test_data.shape"
   ]
  },
  {
   "cell_type": "code",
   "execution_count": 11,
   "id": "a5200702",
   "metadata": {
    "execution": {
     "iopub.execute_input": "2021-11-29T13:50:26.059820Z",
     "iopub.status.busy": "2021-11-29T13:50:26.058940Z",
     "iopub.status.idle": "2021-11-29T13:50:26.060837Z",
     "shell.execute_reply": "2021-11-29T13:50:26.061233Z",
     "shell.execute_reply.started": "2021-11-29T13:48:54.885145Z"
    },
    "id": "CqpXvPeD7zUY",
    "papermill": {
     "duration": 0.040061,
     "end_time": "2021-11-29T13:50:26.061364",
     "exception": false,
     "start_time": "2021-11-29T13:50:26.021303",
     "status": "completed"
    },
    "tags": []
   },
   "outputs": [],
   "source": [
    "# Function to create sequence of data for training and testing\n",
    "\n",
    "def create_sequence(dataset):\n",
    "  sequences = []\n",
    "  labels = []\n",
    "\n",
    "  start_idx = 0\n",
    "\n",
    "  for stop_idx in range(50,len(dataset)): # Selecting 50 rows at a time\n",
    "    sequences.append(dataset.iloc[start_idx:stop_idx])\n",
    "    labels.append(dataset.iloc[stop_idx])\n",
    "    start_idx += 1\n",
    "  return (np.array(sequences),np.array(labels))\n"
   ]
  },
  {
   "cell_type": "code",
   "execution_count": 12,
   "id": "cfb20189",
   "metadata": {
    "execution": {
     "iopub.execute_input": "2021-11-29T13:50:26.238579Z",
     "iopub.status.busy": "2021-11-29T13:50:26.228592Z",
     "iopub.status.idle": "2021-11-29T13:50:26.474567Z",
     "shell.execute_reply": "2021-11-29T13:50:26.473990Z",
     "shell.execute_reply.started": "2021-11-29T13:48:54.894459Z"
    },
    "id": "xqkyw0e-7zW3",
    "papermill": {
     "duration": 0.386764,
     "end_time": "2021-11-29T13:50:26.474713",
     "exception": false,
     "start_time": "2021-11-29T13:50:26.087949",
     "status": "completed"
    },
    "tags": []
   },
   "outputs": [],
   "source": [
    "train_seq, train_label = create_sequence(train_data)\n",
    "test_seq, test_label = create_sequence(test_data)"
   ]
  },
  {
   "cell_type": "code",
   "execution_count": 13,
   "id": "742e613e",
   "metadata": {
    "execution": {
     "iopub.execute_input": "2021-11-29T13:50:26.539660Z",
     "iopub.status.busy": "2021-11-29T13:50:26.538729Z",
     "iopub.status.idle": "2021-11-29T13:50:26.541985Z",
     "shell.execute_reply": "2021-11-29T13:50:26.542452Z",
     "shell.execute_reply.started": "2021-11-29T13:48:55.089605Z"
    },
    "id": "ZpsCI6jf_oC2",
    "outputId": "1c0a74ae-8205-44a9-8748-18318845a365",
    "papermill": {
     "duration": 0.038202,
     "end_time": "2021-11-29T13:50:26.542583",
     "exception": false,
     "start_time": "2021-11-29T13:50:26.504381",
     "status": "completed"
    },
    "tags": []
   },
   "outputs": [
    {
     "data": {
      "text/plain": [
       "((1372, 50, 2), (1372, 2), (305, 50, 2), (305, 2))"
      ]
     },
     "execution_count": 13,
     "metadata": {},
     "output_type": "execute_result"
    }
   ],
   "source": [
    "train_seq.shape, train_label.shape, test_seq.shape, test_label.shape"
   ]
  },
  {
   "cell_type": "markdown",
   "id": "fe299b44",
   "metadata": {
    "id": "lbRE8i0Y6GGL",
    "papermill": {
     "duration": 0.029508,
     "end_time": "2021-11-29T13:50:26.601175",
     "exception": false,
     "start_time": "2021-11-29T13:50:26.571667",
     "status": "completed"
    },
    "tags": []
   },
   "source": [
    "# Creating LSTM model"
   ]
  },
  {
   "cell_type": "code",
   "execution_count": 14,
   "id": "89bfd1cc",
   "metadata": {
    "execution": {
     "iopub.execute_input": "2021-11-29T13:50:26.691126Z",
     "iopub.status.busy": "2021-11-29T13:50:26.689658Z",
     "iopub.status.idle": "2021-11-29T13:50:31.283100Z",
     "shell.execute_reply": "2021-11-29T13:50:31.282463Z",
     "shell.execute_reply.started": "2021-11-29T13:48:55.098122Z"
    },
    "id": "etmB-Lbd7zZa",
    "papermill": {
     "duration": 4.650091,
     "end_time": "2021-11-29T13:50:31.283263",
     "exception": false,
     "start_time": "2021-11-29T13:50:26.633172",
     "status": "completed"
    },
    "tags": []
   },
   "outputs": [],
   "source": [
    "from keras.models import Sequential\n",
    "from keras.layers import Dense, Dropout, LSTM, Bidirectional"
   ]
  },
  {
   "cell_type": "code",
   "execution_count": 18,
   "id": "3c9ba91e",
   "metadata": {
    "execution": {
     "iopub.execute_input": "2021-11-29T13:50:31.345243Z",
     "iopub.status.busy": "2021-11-29T13:50:31.344593Z",
     "iopub.status.idle": "2021-11-29T13:50:34.144339Z",
     "shell.execute_reply": "2021-11-29T13:50:34.144950Z",
     "shell.execute_reply.started": "2021-11-29T13:48:55.107419Z"
    },
    "id": "FntEHOeG7zcE",
    "outputId": "870dc502-f598-4826-ef48-25724058761d",
    "papermill": {
     "duration": 2.834539,
     "end_time": "2021-11-29T13:50:34.145200",
     "exception": false,
     "start_time": "2021-11-29T13:50:31.310661",
     "status": "completed"
    },
    "tags": []
   },
   "outputs": [
    {
     "name": "stdout",
     "output_type": "stream",
     "text": [
      "Model: \"sequential_1\"\n",
      "_________________________________________________________________\n",
      "Layer (type)                 Output Shape              Param #   \n",
      "=================================================================\n",
      "lstm_2 (LSTM)                (None, 50, 50)            10600     \n",
      "_________________________________________________________________\n",
      "dropout_1 (Dropout)          (None, 50, 50)            0         \n",
      "_________________________________________________________________\n",
      "lstm_3 (LSTM)                (None, 50)                20200     \n",
      "_________________________________________________________________\n",
      "dense_1 (Dense)              (None, 2)                 102       \n",
      "=================================================================\n",
      "Total params: 30,902\n",
      "Trainable params: 30,902\n",
      "Non-trainable params: 0\n",
      "_________________________________________________________________\n"
     ]
    }
   ],
   "source": [
    "model = Sequential()\n",
    "model.add(LSTM(units=50, return_sequences=True, input_shape = (train_seq.shape[1], train_seq.shape[2])))\n",
    "\n",
    "model.add(Dropout(0.1)) \n",
    "model.add(LSTM(units=50))\n",
    "\n",
    "model.add(Dense(2))\n",
    "\n",
    "model.compile(loss='mean_squared_error', optimizer='adam',metrics=['mean_squared_error'])\n",
    "\n",
    "model.summary()"
   ]
  },
  {
   "cell_type": "code",
   "execution_count": 19,
   "id": "89bbd310",
   "metadata": {
    "_kg_hide-output": true,
    "execution": {
     "iopub.execute_input": "2021-11-29T13:50:34.264567Z",
     "iopub.status.busy": "2021-11-29T13:50:34.259488Z",
     "iopub.status.idle": "2021-11-29T13:51:17.928289Z",
     "shell.execute_reply": "2021-11-29T13:51:17.928903Z",
     "shell.execute_reply.started": "2021-11-29T13:48:55.516580Z"
    },
    "id": "5sFY8gn97zeC",
    "outputId": "2ee9dfaf-e6de-4f98-bd24-fedc69f238b5",
    "papermill": {
     "duration": 43.722993,
     "end_time": "2021-11-29T13:51:17.929098",
     "exception": false,
     "start_time": "2021-11-29T13:50:34.206105",
     "status": "completed"
    },
    "tags": []
   },
   "outputs": [
    {
     "name": "stdout",
     "output_type": "stream",
     "text": [
      "Epoch 1/100\n",
      "43/43 [==============================] - 18s 154ms/step - loss: 0.0112 - mean_squared_error: 0.0112 - val_loss: 0.0064 - val_mean_squared_error: 0.0064\n",
      "Epoch 2/100\n",
      "43/43 [==============================] - 5s 115ms/step - loss: 8.3199e-04 - mean_squared_error: 8.3199e-04 - val_loss: 0.0017 - val_mean_squared_error: 0.0017\n",
      "Epoch 3/100\n",
      "43/43 [==============================] - 4s 92ms/step - loss: 7.4838e-04 - mean_squared_error: 7.4838e-04 - val_loss: 0.0018 - val_mean_squared_error: 0.0018\n",
      "Epoch 4/100\n",
      "43/43 [==============================] - 4s 92ms/step - loss: 7.0396e-04 - mean_squared_error: 7.0396e-04 - val_loss: 0.0016 - val_mean_squared_error: 0.0016\n",
      "Epoch 5/100\n",
      "43/43 [==============================] - 4s 82ms/step - loss: 6.6515e-04 - mean_squared_error: 6.6515e-04 - val_loss: 0.0018 - val_mean_squared_error: 0.0018\n",
      "Epoch 6/100\n",
      "43/43 [==============================] - 4s 99ms/step - loss: 6.6677e-04 - mean_squared_error: 6.6677e-04 - val_loss: 0.0017 - val_mean_squared_error: 0.0017\n",
      "Epoch 7/100\n",
      "43/43 [==============================] - 3s 69ms/step - loss: 7.0150e-04 - mean_squared_error: 7.0150e-04 - val_loss: 0.0020 - val_mean_squared_error: 0.0020\n",
      "Epoch 8/100\n",
      "43/43 [==============================] - 3s 65ms/step - loss: 6.3444e-04 - mean_squared_error: 6.3444e-04 - val_loss: 0.0014 - val_mean_squared_error: 0.0014\n",
      "Epoch 9/100\n",
      "43/43 [==============================] - 3s 60ms/step - loss: 5.9539e-04 - mean_squared_error: 5.9539e-04 - val_loss: 0.0026 - val_mean_squared_error: 0.0026\n",
      "Epoch 10/100\n",
      "43/43 [==============================] - 5s 128ms/step - loss: 6.0368e-04 - mean_squared_error: 6.0368e-04 - val_loss: 0.0020 - val_mean_squared_error: 0.0020\n",
      "Epoch 11/100\n",
      "43/43 [==============================] - 4s 99ms/step - loss: 5.9178e-04 - mean_squared_error: 5.9178e-04 - val_loss: 0.0011 - val_mean_squared_error: 0.0011\n",
      "Epoch 12/100\n",
      "43/43 [==============================] - 3s 80ms/step - loss: 5.5293e-04 - mean_squared_error: 5.5293e-04 - val_loss: 0.0016 - val_mean_squared_error: 0.0016\n",
      "Epoch 13/100\n",
      "43/43 [==============================] - 3s 78ms/step - loss: 5.5226e-04 - mean_squared_error: 5.5226e-04 - val_loss: 9.6535e-04 - val_mean_squared_error: 9.6535e-04\n",
      "Epoch 14/100\n",
      "43/43 [==============================] - 3s 79ms/step - loss: 5.5452e-04 - mean_squared_error: 5.5452e-04 - val_loss: 0.0011 - val_mean_squared_error: 0.0011\n",
      "Epoch 15/100\n",
      "43/43 [==============================] - 6s 129ms/step - loss: 5.1706e-04 - mean_squared_error: 5.1706e-04 - val_loss: 0.0013 - val_mean_squared_error: 0.0013\n",
      "Epoch 16/100\n",
      "43/43 [==============================] - 6s 130ms/step - loss: 5.0193e-04 - mean_squared_error: 5.0193e-04 - val_loss: 9.3373e-04 - val_mean_squared_error: 9.3373e-04\n",
      "Epoch 17/100\n",
      "43/43 [==============================] - 5s 121ms/step - loss: 4.9916e-04 - mean_squared_error: 4.9916e-04 - val_loss: 0.0013 - val_mean_squared_error: 0.0013\n",
      "Epoch 18/100\n",
      "43/43 [==============================] - 4s 91ms/step - loss: 5.2627e-04 - mean_squared_error: 5.2627e-04 - val_loss: 0.0017 - val_mean_squared_error: 0.0017\n",
      "Epoch 19/100\n",
      "43/43 [==============================] - 4s 96ms/step - loss: 4.7699e-04 - mean_squared_error: 4.7699e-04 - val_loss: 8.6539e-04 - val_mean_squared_error: 8.6539e-04\n",
      "Epoch 20/100\n",
      "43/43 [==============================] - 5s 112ms/step - loss: 5.3319e-04 - mean_squared_error: 5.3319e-04 - val_loss: 8.5668e-04 - val_mean_squared_error: 8.5668e-04\n",
      "Epoch 21/100\n",
      "43/43 [==============================] - 4s 81ms/step - loss: 4.5206e-04 - mean_squared_error: 4.5206e-04 - val_loss: 9.8773e-04 - val_mean_squared_error: 9.8773e-04\n",
      "Epoch 22/100\n",
      "43/43 [==============================] - 3s 61ms/step - loss: 5.0107e-04 - mean_squared_error: 5.0107e-04 - val_loss: 0.0011 - val_mean_squared_error: 0.0011\n",
      "Epoch 23/100\n",
      "43/43 [==============================] - 3s 61ms/step - loss: 4.4149e-04 - mean_squared_error: 4.4149e-04 - val_loss: 8.0431e-04 - val_mean_squared_error: 8.0431e-04\n",
      "Epoch 24/100\n",
      "43/43 [==============================] - 4s 104ms/step - loss: 4.3035e-04 - mean_squared_error: 4.3035e-04 - val_loss: 0.0010 - val_mean_squared_error: 0.0010\n",
      "Epoch 25/100\n",
      "43/43 [==============================] - 3s 77ms/step - loss: 4.4510e-04 - mean_squared_error: 4.4510e-04 - val_loss: 0.0013 - val_mean_squared_error: 0.0013\n",
      "Epoch 26/100\n",
      "43/43 [==============================] - 3s 79ms/step - loss: 4.8643e-04 - mean_squared_error: 4.8643e-04 - val_loss: 0.0012 - val_mean_squared_error: 0.0012\n",
      "Epoch 27/100\n",
      "43/43 [==============================] - 5s 119ms/step - loss: 4.1717e-04 - mean_squared_error: 4.1717e-04 - val_loss: 0.0011 - val_mean_squared_error: 0.0011\n",
      "Epoch 28/100\n",
      "43/43 [==============================] - 4s 102ms/step - loss: 4.2614e-04 - mean_squared_error: 4.2614e-04 - val_loss: 0.0030 - val_mean_squared_error: 0.0030\n",
      "Epoch 29/100\n",
      "43/43 [==============================] - 4s 102ms/step - loss: 4.0591e-04 - mean_squared_error: 4.0591e-04 - val_loss: 7.9229e-04 - val_mean_squared_error: 7.9229e-04\n",
      "Epoch 30/100\n",
      "43/43 [==============================] - 4s 102ms/step - loss: 3.8178e-04 - mean_squared_error: 3.8178e-04 - val_loss: 7.0136e-04 - val_mean_squared_error: 7.0136e-04\n",
      "Epoch 31/100\n",
      "43/43 [==============================] - 4s 100ms/step - loss: 3.9835e-04 - mean_squared_error: 3.9835e-04 - val_loss: 8.7439e-04 - val_mean_squared_error: 8.7439e-04\n",
      "Epoch 32/100\n",
      "43/43 [==============================] - 4s 91ms/step - loss: 3.9175e-04 - mean_squared_error: 3.9175e-04 - val_loss: 8.1028e-04 - val_mean_squared_error: 8.1028e-04\n",
      "Epoch 33/100\n",
      "43/43 [==============================] - 3s 81ms/step - loss: 3.8566e-04 - mean_squared_error: 3.8566e-04 - val_loss: 0.0016 - val_mean_squared_error: 0.0016\n",
      "Epoch 34/100\n",
      "43/43 [==============================] - 3s 78ms/step - loss: 3.8840e-04 - mean_squared_error: 3.8840e-04 - val_loss: 7.9861e-04 - val_mean_squared_error: 7.9861e-04\n",
      "Epoch 35/100\n",
      "43/43 [==============================] - 4s 92ms/step - loss: 3.7083e-04 - mean_squared_error: 3.7083e-04 - val_loss: 6.9859e-04 - val_mean_squared_error: 6.9859e-04\n",
      "Epoch 36/100\n",
      "43/43 [==============================] - 4s 91ms/step - loss: 3.7695e-04 - mean_squared_error: 3.7695e-04 - val_loss: 0.0013 - val_mean_squared_error: 0.0013\n",
      "Epoch 37/100\n",
      "43/43 [==============================] - 4s 91ms/step - loss: 3.4178e-04 - mean_squared_error: 3.4178e-04 - val_loss: 6.1631e-04 - val_mean_squared_error: 6.1631e-04\n",
      "Epoch 38/100\n",
      "43/43 [==============================] - 4s 91ms/step - loss: 3.5040e-04 - mean_squared_error: 3.5040e-04 - val_loss: 0.0020 - val_mean_squared_error: 0.0020\n",
      "Epoch 39/100\n",
      "43/43 [==============================] - 5s 118ms/step - loss: 3.4088e-04 - mean_squared_error: 3.4088e-04 - val_loss: 6.6314e-04 - val_mean_squared_error: 6.6314e-04\n",
      "Epoch 40/100\n",
      "43/43 [==============================] - 4s 102ms/step - loss: 3.2347e-04 - mean_squared_error: 3.2347e-04 - val_loss: 7.4489e-04 - val_mean_squared_error: 7.4489e-04\n",
      "Epoch 41/100\n",
      "43/43 [==============================] - 4s 103ms/step - loss: 3.1677e-04 - mean_squared_error: 3.1677e-04 - val_loss: 0.0012 - val_mean_squared_error: 0.0012\n",
      "Epoch 42/100\n",
      "43/43 [==============================] - 4s 102ms/step - loss: 3.1580e-04 - mean_squared_error: 3.1580e-04 - val_loss: 5.4500e-04 - val_mean_squared_error: 5.4500e-04\n",
      "Epoch 43/100\n",
      "43/43 [==============================] - 4s 103ms/step - loss: 2.9901e-04 - mean_squared_error: 2.9901e-04 - val_loss: 6.6247e-04 - val_mean_squared_error: 6.6247e-04\n",
      "Epoch 44/100\n",
      "43/43 [==============================] - 4s 93ms/step - loss: 2.9397e-04 - mean_squared_error: 2.9397e-04 - val_loss: 8.0113e-04 - val_mean_squared_error: 8.0113e-04\n",
      "Epoch 45/100\n",
      "43/43 [==============================] - 4s 86ms/step - loss: 3.1447e-04 - mean_squared_error: 3.1447e-04 - val_loss: 7.7223e-04 - val_mean_squared_error: 7.7223e-04\n",
      "Epoch 46/100\n",
      "43/43 [==============================] - 4s 102ms/step - loss: 2.8636e-04 - mean_squared_error: 2.8636e-04 - val_loss: 4.8561e-04 - val_mean_squared_error: 4.8561e-04\n",
      "Epoch 47/100\n",
      "43/43 [==============================] - 4s 104ms/step - loss: 2.7524e-04 - mean_squared_error: 2.7524e-04 - val_loss: 4.2871e-04 - val_mean_squared_error: 4.2871e-04\n"
     ]
    },
    {
     "name": "stdout",
     "output_type": "stream",
     "text": [
      "Epoch 48/100\n",
      "43/43 [==============================] - 5s 117ms/step - loss: 2.5449e-04 - mean_squared_error: 2.5449e-04 - val_loss: 0.0012 - val_mean_squared_error: 0.0012\n",
      "Epoch 49/100\n",
      "43/43 [==============================] - 4s 102ms/step - loss: 3.3353e-04 - mean_squared_error: 3.3353e-04 - val_loss: 6.8945e-04 - val_mean_squared_error: 6.8945e-04\n",
      "Epoch 50/100\n",
      "43/43 [==============================] - 4s 102ms/step - loss: 2.6075e-04 - mean_squared_error: 2.6075e-04 - val_loss: 4.3625e-04 - val_mean_squared_error: 4.3625e-04\n",
      "Epoch 51/100\n",
      "43/43 [==============================] - 4s 86ms/step - loss: 2.5335e-04 - mean_squared_error: 2.5335e-04 - val_loss: 7.0551e-04 - val_mean_squared_error: 7.0551e-04\n",
      "Epoch 52/100\n",
      "43/43 [==============================] - 3s 78ms/step - loss: 2.6482e-04 - mean_squared_error: 2.6482e-04 - val_loss: 0.0017 - val_mean_squared_error: 0.0017\n",
      "Epoch 53/100\n",
      "43/43 [==============================] - 5s 126ms/step - loss: 2.7689e-04 - mean_squared_error: 2.7689e-04 - val_loss: 4.5177e-04 - val_mean_squared_error: 4.5177e-04\n",
      "Epoch 54/100\n",
      "43/43 [==============================] - 5s 111ms/step - loss: 2.4450e-04 - mean_squared_error: 2.4450e-04 - val_loss: 0.0012 - val_mean_squared_error: 0.0012\n",
      "Epoch 55/100\n",
      "43/43 [==============================] - 4s 103ms/step - loss: 2.3659e-04 - mean_squared_error: 2.3659e-04 - val_loss: 4.0290e-04 - val_mean_squared_error: 4.0290e-04\n",
      "Epoch 56/100\n",
      "43/43 [==============================] - 4s 103ms/step - loss: 2.4803e-04 - mean_squared_error: 2.4803e-04 - val_loss: 9.6669e-04 - val_mean_squared_error: 9.6669e-04\n",
      "Epoch 57/100\n",
      "43/43 [==============================] - 4s 94ms/step - loss: 2.6697e-04 - mean_squared_error: 2.6697e-04 - val_loss: 3.9065e-04 - val_mean_squared_error: 3.9065e-04\n",
      "Epoch 58/100\n",
      "43/43 [==============================] - 4s 91ms/step - loss: 2.5453e-04 - mean_squared_error: 2.5453e-04 - val_loss: 0.0024 - val_mean_squared_error: 0.0024\n",
      "Epoch 59/100\n",
      "43/43 [==============================] - 4s 93ms/step - loss: 2.2919e-04 - mean_squared_error: 2.2919e-04 - val_loss: 4.4927e-04 - val_mean_squared_error: 4.4927e-04\n",
      "Epoch 60/100\n",
      "43/43 [==============================] - 3s 71ms/step - loss: 2.1185e-04 - mean_squared_error: 2.1185e-04 - val_loss: 0.0011 - val_mean_squared_error: 0.0011\n",
      "Epoch 61/100\n",
      "43/43 [==============================] - 3s 67ms/step - loss: 2.2619e-04 - mean_squared_error: 2.2619e-04 - val_loss: 6.8059e-04 - val_mean_squared_error: 6.8059e-04\n",
      "Epoch 62/100\n",
      "43/43 [==============================] - 3s 67ms/step - loss: 2.4404e-04 - mean_squared_error: 2.4404e-04 - val_loss: 0.0010 - val_mean_squared_error: 0.0010\n",
      "Epoch 63/100\n",
      "43/43 [==============================] - 3s 67ms/step - loss: 2.1960e-04 - mean_squared_error: 2.1960e-04 - val_loss: 3.9413e-04 - val_mean_squared_error: 3.9413e-04\n",
      "Epoch 64/100\n",
      "43/43 [==============================] - 5s 109ms/step - loss: 2.1588e-04 - mean_squared_error: 2.1588e-04 - val_loss: 0.0011 - val_mean_squared_error: 0.0011\n",
      "Epoch 65/100\n",
      "43/43 [==============================] - 4s 103ms/step - loss: 2.1357e-04 - mean_squared_error: 2.1357e-04 - val_loss: 4.1073e-04 - val_mean_squared_error: 4.1073e-04\n",
      "Epoch 66/100\n",
      "43/43 [==============================] - 5s 118ms/step - loss: 2.0726e-04 - mean_squared_error: 2.0726e-04 - val_loss: 3.1744e-04 - val_mean_squared_error: 3.1744e-04\n",
      "Epoch 67/100\n",
      "43/43 [==============================] - 4s 103ms/step - loss: 2.3556e-04 - mean_squared_error: 2.3556e-04 - val_loss: 0.0011 - val_mean_squared_error: 0.0011\n",
      "Epoch 68/100\n",
      "43/43 [==============================] - 4s 96ms/step - loss: 2.0994e-04 - mean_squared_error: 2.0994e-04 - val_loss: 3.1221e-04 - val_mean_squared_error: 3.1221e-04\n",
      "Epoch 69/100\n",
      "43/43 [==============================] - 4s 92ms/step - loss: 2.0554e-04 - mean_squared_error: 2.0554e-04 - val_loss: 3.7581e-04 - val_mean_squared_error: 3.7581e-04\n",
      "Epoch 70/100\n",
      "43/43 [==============================] - 3s 81ms/step - loss: 2.0373e-04 - mean_squared_error: 2.0373e-04 - val_loss: 5.6262e-04 - val_mean_squared_error: 5.6262e-04\n",
      "Epoch 71/100\n",
      "43/43 [==============================] - 3s 72ms/step - loss: 2.0872e-04 - mean_squared_error: 2.0872e-04 - val_loss: 5.5554e-04 - val_mean_squared_error: 5.5554e-04\n",
      "Epoch 72/100\n",
      "43/43 [==============================] - 4s 102ms/step - loss: 2.0619e-04 - mean_squared_error: 2.0619e-04 - val_loss: 3.3200e-04 - val_mean_squared_error: 3.3200e-04\n",
      "Epoch 73/100\n",
      "43/43 [==============================] - 4s 98ms/step - loss: 1.9233e-04 - mean_squared_error: 1.9233e-04 - val_loss: 3.8451e-04 - val_mean_squared_error: 3.8451e-04\n",
      "Epoch 74/100\n",
      "43/43 [==============================] - 3s 70ms/step - loss: 1.9342e-04 - mean_squared_error: 1.9342e-04 - val_loss: 3.0712e-04 - val_mean_squared_error: 3.0712e-04\n",
      "Epoch 75/100\n",
      "43/43 [==============================] - 3s 67ms/step - loss: 2.6733e-04 - mean_squared_error: 2.6733e-04 - val_loss: 0.0016 - val_mean_squared_error: 0.0016\n",
      "Epoch 76/100\n",
      "43/43 [==============================] - 6s 129ms/step - loss: 2.2476e-04 - mean_squared_error: 2.2476e-04 - val_loss: 3.8589e-04 - val_mean_squared_error: 3.8589e-04\n",
      "Epoch 77/100\n",
      "43/43 [==============================] - 5s 108ms/step - loss: 1.9962e-04 - mean_squared_error: 1.9962e-04 - val_loss: 2.7497e-04 - val_mean_squared_error: 2.7497e-04\n",
      "Epoch 78/100\n",
      "43/43 [==============================] - 4s 96ms/step - loss: 1.8714e-04 - mean_squared_error: 1.8714e-04 - val_loss: 2.8728e-04 - val_mean_squared_error: 2.8728e-04\n",
      "Epoch 79/100\n",
      "43/43 [==============================] - 3s 77ms/step - loss: 1.8925e-04 - mean_squared_error: 1.8925e-04 - val_loss: 4.6195e-04 - val_mean_squared_error: 4.6195e-04\n",
      "Epoch 80/100\n",
      "43/43 [==============================] - 3s 77ms/step - loss: 1.8823e-04 - mean_squared_error: 1.8823e-04 - val_loss: 5.5853e-04 - val_mean_squared_error: 5.5853e-04\n",
      "Epoch 81/100\n",
      "43/43 [==============================] - 3s 77ms/step - loss: 2.0226e-04 - mean_squared_error: 2.0226e-04 - val_loss: 7.7558e-04 - val_mean_squared_error: 7.7558e-04\n",
      "Epoch 82/100\n",
      "43/43 [==============================] - 3s 78ms/step - loss: 2.0832e-04 - mean_squared_error: 2.0832e-04 - val_loss: 3.9708e-04 - val_mean_squared_error: 3.9708e-04\n",
      "Epoch 83/100\n",
      "43/43 [==============================] - 6s 136ms/step - loss: 1.7821e-04 - mean_squared_error: 1.7821e-04 - val_loss: 2.9665e-04 - val_mean_squared_error: 2.9665e-04\n",
      "Epoch 84/100\n",
      "43/43 [==============================] - 4s 94ms/step - loss: 1.8476e-04 - mean_squared_error: 1.8476e-04 - val_loss: 3.0224e-04 - val_mean_squared_error: 3.0224e-04\n",
      "Epoch 85/100\n",
      "43/43 [==============================] - 3s 81ms/step - loss: 1.8297e-04 - mean_squared_error: 1.8297e-04 - val_loss: 6.9800e-04 - val_mean_squared_error: 6.9800e-04\n",
      "Epoch 86/100\n",
      "43/43 [==============================] - 3s 79ms/step - loss: 1.7420e-04 - mean_squared_error: 1.7420e-04 - val_loss: 3.5049e-04 - val_mean_squared_error: 3.5049e-04\n",
      "Epoch 87/100\n",
      "43/43 [==============================] - 3s 81ms/step - loss: 1.7647e-04 - mean_squared_error: 1.7647e-04 - val_loss: 0.0014 - val_mean_squared_error: 0.0014\n",
      "Epoch 88/100\n",
      "43/43 [==============================] - 4s 92ms/step - loss: 1.7086e-04 - mean_squared_error: 1.7086e-04 - val_loss: 3.5176e-04 - val_mean_squared_error: 3.5176e-04\n",
      "Epoch 89/100\n",
      "43/43 [==============================] - 5s 116ms/step - loss: 1.8249e-04 - mean_squared_error: 1.8249e-04 - val_loss: 5.5644e-04 - val_mean_squared_error: 5.5644e-04\n",
      "Epoch 90/100\n",
      "43/43 [==============================] - 4s 91ms/step - loss: 1.7065e-04 - mean_squared_error: 1.7065e-04 - val_loss: 3.5499e-04 - val_mean_squared_error: 3.5499e-04\n",
      "Epoch 91/100\n",
      "43/43 [==============================] - 4s 91ms/step - loss: 1.6315e-04 - mean_squared_error: 1.6315e-04 - val_loss: 2.6466e-04 - val_mean_squared_error: 2.6466e-04\n",
      "Epoch 92/100\n",
      "43/43 [==============================] - 4s 91ms/step - loss: 1.7718e-04 - mean_squared_error: 1.7718e-04 - val_loss: 2.8192e-04 - val_mean_squared_error: 2.8192e-04\n",
      "Epoch 93/100\n",
      "43/43 [==============================] - 4s 91ms/step - loss: 1.5636e-04 - mean_squared_error: 1.5636e-04 - val_loss: 4.9573e-04 - val_mean_squared_error: 4.9573e-04\n",
      "Epoch 94/100\n"
     ]
    },
    {
     "name": "stdout",
     "output_type": "stream",
     "text": [
      "43/43 [==============================] - 6s 130ms/step - loss: 1.7265e-04 - mean_squared_error: 1.7265e-04 - val_loss: 4.1585e-04 - val_mean_squared_error: 4.1585e-04\n",
      "Epoch 95/100\n",
      "43/43 [==============================] - 5s 122ms/step - loss: 1.7830e-04 - mean_squared_error: 1.7830e-04 - val_loss: 2.5949e-04 - val_mean_squared_error: 2.5949e-04\n",
      "Epoch 96/100\n",
      "43/43 [==============================] - 3s 79ms/step - loss: 1.8947e-04 - mean_squared_error: 1.8947e-04 - val_loss: 0.0012 - val_mean_squared_error: 0.0012\n",
      "Epoch 97/100\n",
      "43/43 [==============================] - 3s 76ms/step - loss: 1.7770e-04 - mean_squared_error: 1.7770e-04 - val_loss: 4.7326e-04 - val_mean_squared_error: 4.7326e-04\n",
      "Epoch 98/100\n",
      "43/43 [==============================] - 3s 79ms/step - loss: 1.7104e-04 - mean_squared_error: 1.7104e-04 - val_loss: 2.9274e-04 - val_mean_squared_error: 2.9274e-04\n",
      "Epoch 99/100\n",
      "43/43 [==============================] - 5s 113ms/step - loss: 1.6264e-04 - mean_squared_error: 1.6264e-04 - val_loss: 3.0945e-04 - val_mean_squared_error: 3.0945e-04\n",
      "Epoch 100/100\n",
      "43/43 [==============================] - 4s 104ms/step - loss: 1.5991e-04 - mean_squared_error: 1.5991e-04 - val_loss: 2.9449e-04 - val_mean_squared_error: 2.9449e-04\n"
     ]
    },
    {
     "data": {
      "text/plain": [
       "<tensorflow.python.keras.callbacks.History at 0x215326f35b0>"
      ]
     },
     "execution_count": 19,
     "metadata": {},
     "output_type": "execute_result"
    }
   ],
   "source": [
    "model.fit(train_seq, train_label, epochs=100,validation_data=(test_seq, test_label), verbose=1)"
   ]
  },
  {
   "cell_type": "code",
   "execution_count": 20,
   "id": "00a066fd",
   "metadata": {
    "execution": {
     "iopub.execute_input": "2021-11-29T13:51:18.207348Z",
     "iopub.status.busy": "2021-11-29T13:51:18.206496Z",
     "iopub.status.idle": "2021-11-29T13:51:18.771138Z",
     "shell.execute_reply": "2021-11-29T13:51:18.770439Z",
     "shell.execute_reply.started": "2021-11-29T13:49:18.810485Z"
    },
    "id": "UPkxNcyo7zgX",
    "outputId": "8e246086-8b8b-4834-ce91-54333b128398",
    "papermill": {
     "duration": 0.706009,
     "end_time": "2021-11-29T13:51:18.771268",
     "exception": false,
     "start_time": "2021-11-29T13:51:18.065259",
     "status": "completed"
    },
    "tags": []
   },
   "outputs": [
    {
     "data": {
      "text/plain": [
       "array([[0.6609422 , 0.6639119 ],\n",
       "       [0.6567055 , 0.6597425 ],\n",
       "       [0.64725626, 0.65023094],\n",
       "       [0.64153665, 0.64455944],\n",
       "       [0.6388753 , 0.64199334]], dtype=float32)"
      ]
     },
     "execution_count": 20,
     "metadata": {},
     "output_type": "execute_result"
    }
   ],
   "source": [
    "test_predicted = model.predict(test_seq)\n",
    "test_predicted[:5]"
   ]
  },
  {
   "cell_type": "code",
   "execution_count": 21,
   "id": "d6fcdf6d",
   "metadata": {
    "execution": {
     "iopub.execute_input": "2021-11-29T13:51:19.050901Z",
     "iopub.status.busy": "2021-11-29T13:51:19.050171Z",
     "iopub.status.idle": "2021-11-29T13:51:19.052912Z",
     "shell.execute_reply": "2021-11-29T13:51:19.053381Z",
     "shell.execute_reply.started": "2021-11-29T13:49:19.632807Z"
    },
    "id": "DvRmpGcwLPhu",
    "outputId": "5a6b4974-370f-440d-bf4b-ca2d17b51f83",
    "papermill": {
     "duration": 0.14273,
     "end_time": "2021-11-29T13:51:19.053517",
     "exception": false,
     "start_time": "2021-11-29T13:51:18.910787",
     "status": "completed"
    },
    "tags": []
   },
   "outputs": [
    {
     "data": {
      "text/plain": [
       "array([[235.99171, 237.17416],\n",
       "       [234.89763, 236.0958 ],\n",
       "       [232.45746, 233.63573],\n",
       "       [230.98042, 232.16885],\n",
       "       [230.29315, 231.50516]], dtype=float32)"
      ]
     },
     "execution_count": 21,
     "metadata": {},
     "output_type": "execute_result"
    }
   ],
   "source": [
    "test_inverse_predicted = MMS.inverse_transform(test_predicted) # Inversing scaling on predicted data\n",
    "test_inverse_predicted[:5]"
   ]
  },
  {
   "cell_type": "markdown",
   "id": "d5e0763f",
   "metadata": {
    "id": "3fX0hFZM61cO",
    "papermill": {
     "duration": 0.135195,
     "end_time": "2021-11-29T13:51:19.327400",
     "exception": false,
     "start_time": "2021-11-29T13:51:19.192205",
     "status": "completed"
    },
    "tags": []
   },
   "source": [
    "# Visualizing predicted and actual data"
   ]
  },
  {
   "cell_type": "code",
   "execution_count": 22,
   "id": "b1482c2b",
   "metadata": {
    "execution": {
     "iopub.execute_input": "2021-11-29T13:51:19.604064Z",
     "iopub.status.busy": "2021-11-29T13:51:19.602429Z",
     "iopub.status.idle": "2021-11-29T13:51:19.604676Z",
     "shell.execute_reply": "2021-11-29T13:51:19.605114Z",
     "shell.execute_reply.started": "2021-11-29T13:49:19.643481Z"
    },
    "id": "7KWDJaXAL8RT",
    "papermill": {
     "duration": 0.14293,
     "end_time": "2021-11-29T13:51:19.605250",
     "exception": false,
     "start_time": "2021-11-29T13:51:19.462320",
     "status": "completed"
    },
    "tags": []
   },
   "outputs": [],
   "source": [
    "# Merging actual and predicted data for better visualization\n",
    "\n",
    "gs_slic_data = pd.concat([fb_stock_data.iloc[-305:].copy(),pd.DataFrame(test_inverse_predicted,columns=['open_predicted','close_predicted'],index=fb_stock_data.iloc[-305:].index)], axis=1)"
   ]
  },
  {
   "cell_type": "code",
   "execution_count": 23,
   "id": "0f71d152",
   "metadata": {
    "execution": {
     "iopub.execute_input": "2021-11-29T13:51:19.880857Z",
     "iopub.status.busy": "2021-11-29T13:51:19.880216Z",
     "iopub.status.idle": "2021-11-29T13:51:19.883242Z",
     "shell.execute_reply": "2021-11-29T13:51:19.882723Z",
     "shell.execute_reply.started": "2021-11-29T13:49:19.653884Z"
    },
    "id": "VhQ1_JnJ0oYE",
    "papermill": {
     "duration": 0.144781,
     "end_time": "2021-11-29T13:51:19.883366",
     "exception": false,
     "start_time": "2021-11-29T13:51:19.738585",
     "status": "completed"
    },
    "tags": []
   },
   "outputs": [],
   "source": [
    "gs_slic_data[['Open','Close']] = MMS.inverse_transform(gs_slic_data[['Open','Close']]) # Inverse scaling"
   ]
  },
  {
   "cell_type": "code",
   "execution_count": 24,
   "id": "a10799e0",
   "metadata": {
    "execution": {
     "iopub.execute_input": "2021-11-29T13:51:20.162595Z",
     "iopub.status.busy": "2021-11-29T13:51:20.161846Z",
     "iopub.status.idle": "2021-11-29T13:51:20.164892Z",
     "shell.execute_reply": "2021-11-29T13:51:20.165390Z",
     "shell.execute_reply.started": "2021-11-29T13:49:19.666415Z"
    },
    "id": "M1fsx6gTO3io",
    "outputId": "7b5be0fb-8fab-44ca-9346-4163a6536d26",
    "papermill": {
     "duration": 0.148138,
     "end_time": "2021-11-29T13:51:20.165530",
     "exception": false,
     "start_time": "2021-11-29T13:51:20.017392",
     "status": "completed"
    },
    "tags": []
   },
   "outputs": [
    {
     "data": {
      "text/html": [
       "<div>\n",
       "<style scoped>\n",
       "    .dataframe tbody tr th:only-of-type {\n",
       "        vertical-align: middle;\n",
       "    }\n",
       "\n",
       "    .dataframe tbody tr th {\n",
       "        vertical-align: top;\n",
       "    }\n",
       "\n",
       "    .dataframe thead th {\n",
       "        text-align: right;\n",
       "    }\n",
       "</style>\n",
       "<table border=\"1\" class=\"dataframe\">\n",
       "  <thead>\n",
       "    <tr style=\"text-align: right;\">\n",
       "      <th></th>\n",
       "      <th>Open</th>\n",
       "      <th>Close</th>\n",
       "      <th>open_predicted</th>\n",
       "      <th>close_predicted</th>\n",
       "    </tr>\n",
       "    <tr>\n",
       "      <th>Date</th>\n",
       "      <th></th>\n",
       "      <th></th>\n",
       "      <th></th>\n",
       "      <th></th>\n",
       "    </tr>\n",
       "  </thead>\n",
       "  <tbody>\n",
       "    <tr>\n",
       "      <th>2020-11-17</th>\n",
       "      <td>233.899994</td>\n",
       "      <td>233.199997</td>\n",
       "      <td>235.991714</td>\n",
       "      <td>237.174164</td>\n",
       "    </tr>\n",
       "    <tr>\n",
       "      <th>2020-11-18</th>\n",
       "      <td>231.199997</td>\n",
       "      <td>231.100006</td>\n",
       "      <td>234.897629</td>\n",
       "      <td>236.095795</td>\n",
       "    </tr>\n",
       "    <tr>\n",
       "      <th>2020-11-19</th>\n",
       "      <td>230.050003</td>\n",
       "      <td>229.600006</td>\n",
       "      <td>232.457458</td>\n",
       "      <td>233.635727</td>\n",
       "    </tr>\n",
       "    <tr>\n",
       "      <th>2020-11-20</th>\n",
       "      <td>229.100006</td>\n",
       "      <td>229.149994</td>\n",
       "      <td>230.980423</td>\n",
       "      <td>232.168854</td>\n",
       "    </tr>\n",
       "    <tr>\n",
       "      <th>2020-11-23</th>\n",
       "      <td>228.899994</td>\n",
       "      <td>226.500000</td>\n",
       "      <td>230.293152</td>\n",
       "      <td>231.505157</td>\n",
       "    </tr>\n",
       "  </tbody>\n",
       "</table>\n",
       "</div>"
      ],
      "text/plain": [
       "                  Open       Close  open_predicted  close_predicted\n",
       "Date                                                               \n",
       "2020-11-17  233.899994  233.199997      235.991714       237.174164\n",
       "2020-11-18  231.199997  231.100006      234.897629       236.095795\n",
       "2020-11-19  230.050003  229.600006      232.457458       233.635727\n",
       "2020-11-20  229.100006  229.149994      230.980423       232.168854\n",
       "2020-11-23  228.899994  226.500000      230.293152       231.505157"
      ]
     },
     "execution_count": 24,
     "metadata": {},
     "output_type": "execute_result"
    }
   ],
   "source": [
    "gs_slic_data.head()"
   ]
  },
  {
   "cell_type": "code",
   "execution_count": 25,
   "id": "6313352b",
   "metadata": {
    "execution": {
     "iopub.execute_input": "2021-11-29T13:51:20.444637Z",
     "iopub.status.busy": "2021-11-29T13:51:20.444000Z",
     "iopub.status.idle": "2021-11-29T13:51:20.733288Z",
     "shell.execute_reply": "2021-11-29T13:51:20.733701Z",
     "shell.execute_reply.started": "2021-11-29T13:49:19.687236Z"
    },
    "id": "CFS9w3P30Hig",
    "outputId": "66adef77-4f7e-452e-9971-d7479a5c6a2a",
    "papermill": {
     "duration": 0.428726,
     "end_time": "2021-11-29T13:51:20.733862",
     "exception": false,
     "start_time": "2021-11-29T13:51:20.305136",
     "status": "completed"
    },
    "tags": []
   },
   "outputs": [
    {
     "data": {
      "image/png": "[encoded data removed]",
      "text/plain": [
       "<Figure size 720x432 with 1 Axes>"
      ]
     },
     "metadata": {
      "needs_background": "light"
     },
     "output_type": "display_data"
    }
   ],
   "source": [
    "gs_slic_data[['Open','open_predicted']].plot(figsize=(10,6))\n",
    "plt.xticks(rotation=45)\n",
    "plt.xlabel('Date',size=15)\n",
    "plt.ylabel('Stock Price',size=15)\n",
    "plt.title('Actual vs Predicted for open price',size=15)\n",
    "plt.show()"
   ]
  },
  {
   "cell_type": "code",
   "execution_count": 26,
   "id": "4b05123b",
   "metadata": {
    "execution": {
     "iopub.execute_input": "2021-11-29T13:51:21.026765Z",
     "iopub.status.busy": "2021-11-29T13:51:21.025624Z",
     "iopub.status.idle": "2021-11-29T13:51:21.298379Z",
     "shell.execute_reply": "2021-11-29T13:51:21.298843Z",
     "shell.execute_reply.started": "2021-11-29T13:49:19.996117Z"
    },
    "id": "YEYigZI8PFo1",
    "outputId": "0a9b81e8-2008-4058-dada-662c91108822",
    "papermill": {
     "duration": 0.430469,
     "end_time": "2021-11-29T13:51:21.298994",
     "exception": false,
     "start_time": "2021-11-29T13:51:20.868525",
     "status": "completed"
    },
    "tags": []
   },
   "outputs": [
    {
     "data": {
      "image/png": "[encoded data removed]",
      "text/plain": [
       "<Figure size 720x432 with 1 Axes>"
      ]
     },
     "metadata": {
      "needs_background": "light"
     },
     "output_type": "display_data"
    }
   ],
   "source": [
    "gs_slic_data[['Close','close_predicted']].plot(figsize=(10,6))\n",
    "plt.xticks(rotation=45)\n",
    "plt.xlabel('Date',size=15)\n",
    "plt.ylabel('Stock Price',size=15)\n",
    "plt.title('Actual vs Predicted for close price',size=15)\n",
    "plt.show()"
   ]
  },
  {
   "cell_type": "markdown",
   "id": "d404369a",
   "metadata": {
    "id": "WeWDN9x_6RIt",
    "papermill": {
     "duration": 0.135991,
     "end_time": "2021-11-29T13:51:21.574630",
     "exception": false,
     "start_time": "2021-11-29T13:51:21.438639",
     "status": "completed"
    },
    "tags": []
   },
   "source": [
    "# Predicting upcoming 10 days"
   ]
  },
  {
   "cell_type": "code",
   "execution_count": 27,
   "id": "904b10e1",
   "metadata": {
    "execution": {
     "iopub.execute_input": "2021-11-29T13:51:21.863813Z",
     "iopub.status.busy": "2021-11-29T13:51:21.862906Z",
     "iopub.status.idle": "2021-11-29T13:51:21.864849Z",
     "shell.execute_reply": "2021-11-29T13:51:21.865302Z",
     "shell.execute_reply.started": "2021-11-29T13:49:20.293808Z"
    },
    "id": "ByoVNOEn0Ht4",
    "papermill": {
     "duration": 0.149481,
     "end_time": "2021-11-29T13:51:21.865439",
     "exception": false,
     "start_time": "2021-11-29T13:51:21.715958",
     "status": "completed"
    },
    "tags": []
   },
   "outputs": [],
   "source": [
    "# Creating a dataframe and adding 10 days to existing index \n",
    "\n",
    "gs_slic_data = gs_slic_data.append(pd.DataFrame(columns=gs_slic_data.columns,index=pd.date_range(start=gs_slic_data.index[-1], periods=11, freq='D', closed='right')))\n"
   ]
  },
  {
   "cell_type": "code",
   "execution_count": 28,
   "id": "d2f9bda9",
   "metadata": {
    "execution": {
     "iopub.execute_input": "2021-11-29T13:51:22.160082Z",
     "iopub.status.busy": "2021-11-29T13:51:22.159226Z",
     "iopub.status.idle": "2021-11-29T13:51:22.162214Z",
     "shell.execute_reply": "2021-11-29T13:51:22.162638Z",
     "shell.execute_reply.started": "2021-11-29T13:49:20.302965Z"
    },
    "id": "1s1rK-LV9Se_",
    "outputId": "6992b3eb-8fd2-46e8-bf57-5d63315720a1",
    "papermill": {
     "duration": 0.158094,
     "end_time": "2021-11-29T13:51:22.162804",
     "exception": false,
     "start_time": "2021-11-29T13:51:22.004710",
     "status": "completed"
    },
    "tags": []
   },
   "outputs": [
    {
     "data": {
      "text/html": [
       "<div>\n",
       "<style scoped>\n",
       "    .dataframe tbody tr th:only-of-type {\n",
       "        vertical-align: middle;\n",
       "    }\n",
       "\n",
       "    .dataframe tbody tr th {\n",
       "        vertical-align: top;\n",
       "    }\n",
       "\n",
       "    .dataframe thead th {\n",
       "        text-align: right;\n",
       "    }\n",
       "</style>\n",
       "<table border=\"1\" class=\"dataframe\">\n",
       "  <thead>\n",
       "    <tr style=\"text-align: right;\">\n",
       "      <th></th>\n",
       "      <th>Open</th>\n",
       "      <th>Close</th>\n",
       "      <th>open_predicted</th>\n",
       "      <th>close_predicted</th>\n",
       "    </tr>\n",
       "  </thead>\n",
       "  <tbody>\n",
       "    <tr>\n",
       "      <th>2022-01-24</th>\n",
       "      <td>268.000000</td>\n",
       "      <td>271.200012</td>\n",
       "      <td>270.676849</td>\n",
       "      <td>271.987427</td>\n",
       "    </tr>\n",
       "    <tr>\n",
       "      <th>2022-01-25</th>\n",
       "      <td>270.000000</td>\n",
       "      <td>268.299988</td>\n",
       "      <td>271.436859</td>\n",
       "      <td>272.956970</td>\n",
       "    </tr>\n",
       "    <tr>\n",
       "      <th>2022-01-26</th>\n",
       "      <td>266.100006</td>\n",
       "      <td>261.850006</td>\n",
       "      <td>268.675049</td>\n",
       "      <td>270.246674</td>\n",
       "    </tr>\n",
       "    <tr>\n",
       "      <th>2022-01-27</th>\n",
       "      <td>259.850006</td>\n",
       "      <td>266.450012</td>\n",
       "      <td>262.916412</td>\n",
       "      <td>264.502899</td>\n",
       "    </tr>\n",
       "    <tr>\n",
       "      <th>2022-01-28</th>\n",
       "      <td>268.000000</td>\n",
       "      <td>268.350006</td>\n",
       "      <td>266.282349</td>\n",
       "      <td>268.018829</td>\n",
       "    </tr>\n",
       "  </tbody>\n",
       "</table>\n",
       "</div>"
      ],
      "text/plain": [
       "                  Open       Close  open_predicted  close_predicted\n",
       "2022-01-24  268.000000  271.200012      270.676849       271.987427\n",
       "2022-01-25  270.000000  268.299988      271.436859       272.956970\n",
       "2022-01-26  266.100006  261.850006      268.675049       270.246674\n",
       "2022-01-27  259.850006  266.450012      262.916412       264.502899\n",
       "2022-01-28  268.000000  268.350006      266.282349       268.018829"
      ]
     },
     "execution_count": 28,
     "metadata": {},
     "output_type": "execute_result"
    }
   ],
   "source": [
    "gs_slic_data['2022-01-23':'2022-01-28']"
   ]
  },
  {
   "cell_type": "code",
   "execution_count": 29,
   "id": "452632e8",
   "metadata": {
    "execution": {
     "iopub.execute_input": "2021-11-29T13:51:22.464480Z",
     "iopub.status.busy": "2021-11-29T13:51:22.463554Z",
     "iopub.status.idle": "2021-11-29T13:51:22.465737Z",
     "shell.execute_reply": "2021-11-29T13:51:22.466157Z",
     "shell.execute_reply.started": "2021-11-29T13:49:20.324276Z"
    },
    "id": "NZrOofTiTUpA",
    "papermill": {
     "duration": 0.151721,
     "end_time": "2021-11-29T13:51:22.466304",
     "exception": false,
     "start_time": "2021-11-29T13:51:22.314583",
     "status": "completed"
    },
    "tags": []
   },
   "outputs": [],
   "source": [
    "upcoming_prediction = pd.DataFrame(columns=['Open','Close'],index=gs_slic_data.index)\n",
    "upcoming_prediction.index=pd.to_datetime(upcoming_prediction.index)"
   ]
  },
  {
   "cell_type": "code",
   "execution_count": 30,
   "id": "c219f9fe",
   "metadata": {
    "execution": {
     "iopub.execute_input": "2021-11-29T13:51:22.755255Z",
     "iopub.status.busy": "2021-11-29T13:51:22.754366Z",
     "iopub.status.idle": "2021-11-29T13:51:23.192659Z",
     "shell.execute_reply": "2021-11-29T13:51:23.191262Z",
     "shell.execute_reply.started": "2021-11-29T13:49:20.337962Z"
    },
    "id": "fexYhMesZHEy",
    "papermill": {
     "duration": 0.586524,
     "end_time": "2021-11-29T13:51:23.192863",
     "exception": false,
     "start_time": "2021-11-29T13:51:22.606339",
     "status": "completed"
    },
    "tags": []
   },
   "outputs": [],
   "source": [
    "curr_seq = test_seq[-1:]\n",
    "\n",
    "for i in range(-10,0):\n",
    "  up_pred = model.predict(curr_seq)\n",
    "  upcoming_prediction.iloc[i] = up_pred\n",
    "  curr_seq = np.append(curr_seq[0][1:],up_pred,axis=0)\n",
    "  curr_seq = curr_seq.reshape(test_seq[-1:].shape)\n"
   ]
  },
  {
   "cell_type": "code",
   "execution_count": 31,
   "id": "06dcba60",
   "metadata": {
    "execution": {
     "iopub.execute_input": "2021-11-29T13:51:23.639282Z",
     "iopub.status.busy": "2021-11-29T13:51:23.637529Z",
     "iopub.status.idle": "2021-11-29T13:51:23.639869Z",
     "shell.execute_reply": "2021-11-29T13:51:23.640303Z",
     "shell.execute_reply.started": "2021-11-29T13:49:20.727490Z"
    },
    "id": "ffiWW_EIZHMT",
    "papermill": {
     "duration": 0.219046,
     "end_time": "2021-11-29T13:51:23.640455",
     "exception": false,
     "start_time": "2021-11-29T13:51:23.421409",
     "status": "completed"
    },
    "tags": []
   },
   "outputs": [],
   "source": [
    "upcoming_prediction[['Open','Close']] = MMS.inverse_transform(upcoming_prediction[['Open','Close']])"
   ]
  },
  {
   "cell_type": "code",
   "execution_count": 32,
   "id": "bdd20807",
   "metadata": {
    "execution": {
     "iopub.execute_input": "2021-11-29T13:51:23.943693Z",
     "iopub.status.busy": "2021-11-29T13:51:23.942573Z",
     "iopub.status.idle": "2021-11-29T13:51:24.197160Z",
     "shell.execute_reply": "2021-11-29T13:51:24.196409Z",
     "shell.execute_reply.started": "2021-11-29T13:49:20.735924Z"
    },
    "id": "4DvMiPkTVlEe",
    "outputId": "c1ec957f-b7a4-46ed-858e-7a230b341ffa",
    "papermill": {
     "duration": 0.418763,
     "end_time": "2021-11-29T13:51:24.197289",
     "exception": false,
     "start_time": "2021-11-29T13:51:23.778526",
     "status": "completed"
    },
    "tags": []
   },
   "outputs": [
    {
     "data": {
      "image/png": "[encoded data removed]",
      "text/plain": [
       "<Figure size 720x360 with 1 Axes>"
      ]
     },
     "metadata": {
      "needs_background": "light"
     },
     "output_type": "display_data"
    }
   ],
   "source": [
    "fg,ax=plt.subplots(figsize=(10,5))\n",
    "ax.plot(gs_slic_data.loc['2022-01-25':,'Open'],label='Current Open Price')\n",
    "ax.plot(upcoming_prediction.loc['2022-01-25':,'Open'],label='Upcoming Open Price')\n",
    "plt.setp(ax.xaxis.get_majorticklabels(), rotation=45)\n",
    "ax.set_xlabel('Date',size=15)\n",
    "ax.set_ylabel('Stock Price',size=15)\n",
    "ax.set_title('Upcoming Open price prediction',size=15)\n",
    "ax.legend()\n",
    "fg.show()"
   ]
  },
  {
   "cell_type": "code",
   "execution_count": 33,
   "id": "6cefc709",
   "metadata": {
    "execution": {
     "iopub.execute_input": "2021-11-29T13:51:24.505007Z",
     "iopub.status.busy": "2021-11-29T13:51:24.504069Z",
     "iopub.status.idle": "2021-11-29T13:51:24.751453Z",
     "shell.execute_reply": "2021-11-29T13:51:24.751904Z",
     "shell.execute_reply.started": "2021-11-29T13:49:21.029698Z"
    },
    "id": "r9EK16p7m8ZK",
    "outputId": "6bd4e931-511c-4575-ee32-339fca13794a",
    "papermill": {
     "duration": 0.41601,
     "end_time": "2021-11-29T13:51:24.752112",
     "exception": false,
     "start_time": "2021-11-29T13:51:24.336102",
     "status": "completed"
    },
    "tags": []
   },
   "outputs": [
    {
     "data": {
      "image/png": "[encoded data removed]",
      "text/plain": [
       "<Figure size 720x360 with 1 Axes>"
      ]
     },
     "metadata": {
      "needs_background": "light"
     },
     "output_type": "display_data"
    }
   ],
   "source": [
    "fg,ax=plt.subplots(figsize=(10,5))\n",
    "ax.plot(gs_slic_data.loc['2022-01-24':,'Close'],label='Current close Price')\n",
    "ax.plot(upcoming_prediction.loc['2022-01-24':,'Close'],label='Upcoming close Price')\n",
    "plt.setp(ax.xaxis.get_majorticklabels(), rotation=45)\n",
    "ax.set_xlabel('Date',size=15)\n",
    "ax.set_ylabel('Stock Price',size=15)\n",
    "ax.set_title('Upcoming close price prediction',size=15)\n",
    "ax.legend()\n",
    "fg.show()"
   ]
  },
  {
   "cell_type": "code",
   "execution_count": null,
   "id": "b9950b45",
   "metadata": {},
   "outputs": [],
   "source": []
  },
  {
   "cell_type": "code",
   "execution_count": null,
   "id": "9199ff5e",
   "metadata": {},
   "outputs": [],
   "source": []
  }
 ],
 "metadata": {
  "kernelspec": {
   "display_name": "Python 3",
   "language": "python",
   "name": "python3"
  },
  "papermill": {
   "default_parameters": {},
   "duration": 71.502717,
   "end_time": "2021-11-29T13:51:28.321502",
   "environment_variables": {},
   "exception": null,
   "input_path": "__notebook__.ipynb",
   "output_path": "__notebook__.ipynb",
   "parameters": {},
   "start_time": "2021-11-29T13:50:16.818785",
   "version": "2.3.3"
  }
 },
 "nbformat": 4,
 "nbformat_minor": 5
}
