{
 "cells": [
  {
   "cell_type": "code",
   "execution_count": 1,
   "id": "1524d277",
   "metadata": {
    "_kg_hide-input": true,
    "execution": {
     "iopub.execute_input": "2021-11-29T13:50:24.240758Z",
     "iopub.status.busy": "2021-11-29T13:50:24.239966Z",
     "iopub.status.idle": "2021-11-29T13:50:24.243586Z",
     "shell.execute_reply": "2021-11-29T13:50:24.243082Z",
     "shell.execute_reply.started": "2021-11-29T13:48:54.348106Z"
    },
    "id": "rG29jnHE2JsP",
    "papermill": {
     "duration": 0.036026,
     "end_time": "2021-11-29T13:50:24.243716",
     "exception": false,
     "start_time": "2021-11-29T13:50:24.207690",
     "status": "completed"
    },
    "tags": []
   },
   "outputs": [],
   "source": [
    "import warnings\n",
    "warnings.filterwarnings('ignore')"
   ]
  },
  {
   "cell_type": "code",
   "execution_count": 2,
   "id": "d23f81d1",
   "metadata": {
    "execution": {
     "iopub.execute_input": "2021-11-29T13:50:24.293474Z",
     "iopub.status.busy": "2021-11-29T13:50:24.292628Z",
     "iopub.status.idle": "2021-11-29T13:50:24.294413Z",
     "shell.execute_reply": "2021-11-29T13:50:24.294872Z",
     "shell.execute_reply.started": "2021-11-29T13:48:54.354754Z"
    },
    "id": "DXL9UGER2bMy",
    "papermill": {
     "duration": 0.028698,
     "end_time": "2021-11-29T13:50:24.294994",
     "exception": false,
     "start_time": "2021-11-29T13:50:24.266296",
     "status": "completed"
    },
    "tags": []
   },
   "outputs": [],
   "source": [
    "# Importing required libraries\n",
    "import pandas as pd\n",
    "import numpy as np\n",
    "import matplotlib.pyplot as plt"
   ]
  },
  {
   "cell_type": "code",
   "execution_count": 3,
   "id": "c453fc1b",
   "metadata": {
    "execution": {
     "iopub.execute_input": "2021-11-29T13:50:24.344143Z",
     "iopub.status.busy": "2021-11-29T13:50:24.343467Z",
     "iopub.status.idle": "2021-11-29T13:50:24.391560Z",
     "shell.execute_reply": "2021-11-29T13:50:24.392000Z",
     "shell.execute_reply.started": "2021-11-29T13:48:54.366469Z"
    },
    "id": "KFlX32E32b-h",
    "outputId": "5bba8fed-4c90-42e1-8119-e998b57ee8f7",
    "papermill": {
     "duration": 0.074661,
     "end_time": "2021-11-29T13:50:24.392144",
     "exception": false,
     "start_time": "2021-11-29T13:50:24.317483",
     "status": "completed"
    },
    "tags": []
   },
   "outputs": [
    {
     "data": {
      "text/html": [
       "<div>\n",
       "<style scoped>\n",
       "    .dataframe tbody tr th:only-of-type {\n",
       "        vertical-align: middle;\n",
       "    }\n",
       "\n",
       "    .dataframe tbody tr th {\n",
       "        vertical-align: top;\n",
       "    }\n",
       "\n",
       "    .dataframe thead th {\n",
       "        text-align: right;\n",
       "    }\n",
       "</style>\n",
       "<table border=\"1\" class=\"dataframe\">\n",
       "  <thead>\n",
       "    <tr style=\"text-align: right;\">\n",
       "      <th></th>\n",
       "      <th>Date</th>\n",
       "      <th>Open</th>\n",
       "      <th>High</th>\n",
       "      <th>Low</th>\n",
       "      <th>Close</th>\n",
       "      <th>Adj Close</th>\n",
       "      <th>Volume</th>\n",
       "    </tr>\n",
       "  </thead>\n",
       "  <tbody>\n",
       "    <tr>\n",
       "      <th>0</th>\n",
       "      <td>29-01-2015</td>\n",
       "      <td>533.799988</td>\n",
       "      <td>537.337524</td>\n",
       "      <td>532.062500</td>\n",
       "      <td>535.724976</td>\n",
       "      <td>447.274323</td>\n",
       "      <td>632020</td>\n",
       "    </tr>\n",
       "    <tr>\n",
       "      <th>1</th>\n",
       "      <td>30-01-2015</td>\n",
       "      <td>538.000000</td>\n",
       "      <td>540.900024</td>\n",
       "      <td>531.599976</td>\n",
       "      <td>535.687500</td>\n",
       "      <td>447.243011</td>\n",
       "      <td>967412</td>\n",
       "    </tr>\n",
       "    <tr>\n",
       "      <th>2</th>\n",
       "      <td>02-02-2015</td>\n",
       "      <td>535.000000</td>\n",
       "      <td>537.799988</td>\n",
       "      <td>531.912476</td>\n",
       "      <td>533.587524</td>\n",
       "      <td>445.489777</td>\n",
       "      <td>257932</td>\n",
       "    </tr>\n",
       "    <tr>\n",
       "      <th>3</th>\n",
       "      <td>03-02-2015</td>\n",
       "      <td>535.000000</td>\n",
       "      <td>535.000000</td>\n",
       "      <td>525.762512</td>\n",
       "      <td>530.087524</td>\n",
       "      <td>442.567749</td>\n",
       "      <td>294284</td>\n",
       "    </tr>\n",
       "    <tr>\n",
       "      <th>4</th>\n",
       "      <td>04-02-2015</td>\n",
       "      <td>532.000000</td>\n",
       "      <td>537.375000</td>\n",
       "      <td>532.000000</td>\n",
       "      <td>535.512512</td>\n",
       "      <td>447.096924</td>\n",
       "      <td>218144</td>\n",
       "    </tr>\n",
       "  </tbody>\n",
       "</table>\n",
       "</div>"
      ],
      "text/plain": [
       "         Date        Open        High         Low       Close   Adj Close  \\\n",
       "0  29-01-2015  533.799988  537.337524  532.062500  535.724976  447.274323   \n",
       "1  30-01-2015  538.000000  540.900024  531.599976  535.687500  447.243011   \n",
       "2  02-02-2015  535.000000  537.799988  531.912476  533.587524  445.489777   \n",
       "3  03-02-2015  535.000000  535.000000  525.762512  530.087524  442.567749   \n",
       "4  04-02-2015  532.000000  537.375000  532.000000  535.512512  447.096924   \n",
       "\n",
       "   Volume  \n",
       "0  632020  \n",
       "1  967412  \n",
       "2  257932  \n",
       "3  294284  \n",
       "4  218144  "
      ]
     },
     "execution_count": 3,
     "metadata": {},
     "output_type": "execute_result"
    }
   ],
   "source": [
    "infosys_stock_data = pd.read_csv('stockdatainfosys.csv')\n",
    "infosys_stock_data.head()"
   ]
  },
  {
   "cell_type": "code",
   "execution_count": 4,
   "id": "e9895bbf",
   "metadata": {
    "execution": {
     "iopub.execute_input": "2021-11-29T13:50:24.446054Z",
     "iopub.status.busy": "2021-11-29T13:50:24.445242Z",
     "iopub.status.idle": "2021-11-29T13:50:24.462449Z",
     "shell.execute_reply": "2021-11-29T13:50:24.463027Z",
     "shell.execute_reply.started": "2021-11-29T13:48:54.399710Z"
    },
    "id": "rD5muzWA2cBd",
    "outputId": "8a62ca3b-b1c7-4b31-d097-f2f6184e438f",
    "papermill": {
     "duration": 0.047642,
     "end_time": "2021-11-29T13:50:24.463201",
     "exception": false,
     "start_time": "2021-11-29T13:50:24.415559",
     "status": "completed"
    },
    "tags": []
   },
   "outputs": [
    {
     "name": "stdout",
     "output_type": "stream",
     "text": [
      "<class 'pandas.core.frame.DataFrame'>\n",
      "RangeIndex: 1728 entries, 0 to 1727\n",
      "Data columns (total 7 columns):\n",
      " #   Column     Non-Null Count  Dtype  \n",
      "---  ------     --------------  -----  \n",
      " 0   Date       1728 non-null   object \n",
      " 1   Open       1728 non-null   float64\n",
      " 2   High       1728 non-null   float64\n",
      " 3   Low        1728 non-null   float64\n",
      " 4   Close      1728 non-null   float64\n",
      " 5   Adj Close  1728 non-null   float64\n",
      " 6   Volume     1728 non-null   int64  \n",
      "dtypes: float64(5), int64(1), object(1)\n",
      "memory usage: 94.6+ KB\n"
     ]
    }
   ],
   "source": [
    "infosys_stock_data.info()"
   ]
  },
  {
   "cell_type": "code",
   "execution_count": 5,
   "id": "967ae730",
   "metadata": {
    "execution": {
     "iopub.execute_input": "2021-11-29T13:50:24.514533Z",
     "iopub.status.busy": "2021-11-29T13:50:24.513724Z",
     "iopub.status.idle": "2021-11-29T13:50:24.528901Z",
     "shell.execute_reply": "2021-11-29T13:50:24.528442Z",
     "shell.execute_reply.started": "2021-11-29T13:48:54.416152Z"
    },
    "id": "KHpBg4KNnYJB",
    "outputId": "fa98ce9e-66be-478d-dfc5-677f214c2c78",
    "papermill": {
     "duration": 0.040632,
     "end_time": "2021-11-29T13:50:24.529016",
     "exception": false,
     "start_time": "2021-11-29T13:50:24.488384",
     "status": "completed"
    },
    "tags": []
   },
   "outputs": [
    {
     "data": {
      "text/html": [
       "<div>\n",
       "<style scoped>\n",
       "    .dataframe tbody tr th:only-of-type {\n",
       "        vertical-align: middle;\n",
       "    }\n",
       "\n",
       "    .dataframe tbody tr th {\n",
       "        vertical-align: top;\n",
       "    }\n",
       "\n",
       "    .dataframe thead th {\n",
       "        text-align: right;\n",
       "    }\n",
       "</style>\n",
       "<table border=\"1\" class=\"dataframe\">\n",
       "  <thead>\n",
       "    <tr style=\"text-align: right;\">\n",
       "      <th></th>\n",
       "      <th>Open</th>\n",
       "      <th>Close</th>\n",
       "    </tr>\n",
       "    <tr>\n",
       "      <th>Date</th>\n",
       "      <th></th>\n",
       "      <th></th>\n",
       "    </tr>\n",
       "  </thead>\n",
       "  <tbody>\n",
       "    <tr>\n",
       "      <th>2015-01-29</th>\n",
       "      <td>533.799988</td>\n",
       "      <td>535.724976</td>\n",
       "    </tr>\n",
       "    <tr>\n",
       "      <th>2015-01-30</th>\n",
       "      <td>538.000000</td>\n",
       "      <td>535.687500</td>\n",
       "    </tr>\n",
       "    <tr>\n",
       "      <th>2015-02-02</th>\n",
       "      <td>535.000000</td>\n",
       "      <td>533.587524</td>\n",
       "    </tr>\n",
       "    <tr>\n",
       "      <th>2015-03-02</th>\n",
       "      <td>535.000000</td>\n",
       "      <td>530.087524</td>\n",
       "    </tr>\n",
       "    <tr>\n",
       "      <th>2015-04-02</th>\n",
       "      <td>532.000000</td>\n",
       "      <td>535.512512</td>\n",
       "    </tr>\n",
       "  </tbody>\n",
       "</table>\n",
       "</div>"
      ],
      "text/plain": [
       "                  Open       Close\n",
       "Date                              \n",
       "2015-01-29  533.799988  535.724976\n",
       "2015-01-30  538.000000  535.687500\n",
       "2015-02-02  535.000000  533.587524\n",
       "2015-03-02  535.000000  530.087524\n",
       "2015-04-02  532.000000  535.512512"
      ]
     },
     "execution_count": 5,
     "metadata": {},
     "output_type": "execute_result"
    }
   ],
   "source": [
    "infosys_stock_data = infosys_stock_data[['Date','Open','Close']] # Extracting required columns\n",
    "infosys_stock_data['Date'] = pd.to_datetime(infosys_stock_data['Date'].apply(lambda x: x.split()[0])) # Selecting only date\n",
    "infosys_stock_data.set_index('Date',drop=True,inplace=True) # Setting date column as index\n",
    "infosys_stock_data.head()"
   ]
  },
  {
   "cell_type": "code",
   "execution_count": 6,
   "id": "ed6be72d",
   "metadata": {
    "_kg_hide-input": true,
    "execution": {
     "iopub.execute_input": "2021-11-29T13:50:24.595227Z",
     "iopub.status.busy": "2021-11-29T13:50:24.594412Z",
     "iopub.status.idle": "2021-11-29T13:50:25.002816Z",
     "shell.execute_reply": "2021-11-29T13:50:25.003266Z",
     "shell.execute_reply.started": "2021-11-29T13:48:54.433116Z"
    },
    "id": "17mfyZrq2cE9",
    "outputId": "3967e04c-6b57-41fc-84dd-35eecfb15269",
    "papermill": {
     "duration": 0.45005,
     "end_time": "2021-11-29T13:50:25.003414",
     "exception": false,
     "start_time": "2021-11-29T13:50:24.553364",
     "status": "completed"
    },
    "tags": []
   },
   "outputs": [
    {
     "data": {
      "image/png": "[encoded data removed]",
      "text/plain": [
       "<Figure size 1440x504 with 2 Axes>"
      ]
     },
     "metadata": {
      "needs_background": "light"
     },
     "output_type": "display_data"
    }
   ],
   "source": [
    "fg, ax =plt.subplots(1,2,figsize=(20,7))\n",
    "ax[0].plot(infosys_stock_data['Open'],label='Open',color='green')\n",
    "ax[0].set_xlabel('Date',size=15)\n",
    "ax[0].set_ylabel('Price',size=15)\n",
    "ax[0].legend()\n",
    "\n",
    "ax[1].plot(infosys_stock_data['Close'],label='Close',color='red')\n",
    "ax[1].set_xlabel('Date',size=15)\n",
    "ax[1].set_ylabel('Price',size=15)\n",
    "ax[1].legend()\n",
    "\n",
    "fg.show()"
   ]
  },
  {
   "cell_type": "markdown",
   "id": "f5f7049a",
   "metadata": {
    "id": "PTYHF02Y6B1m",
    "papermill": {
     "duration": 0.025384,
     "end_time": "2021-11-29T13:50:25.054625",
     "exception": false,
     "start_time": "2021-11-29T13:50:25.029241",
     "status": "completed"
    },
    "tags": []
   },
   "source": [
    "# Data Pre-Processing"
   ]
  },
  {
   "cell_type": "code",
   "execution_count": 7,
   "id": "4049b119",
   "metadata": {
    "execution": {
     "iopub.execute_input": "2021-11-29T13:50:25.109737Z",
     "iopub.status.busy": "2021-11-29T13:50:25.109037Z",
     "iopub.status.idle": "2021-11-29T13:50:25.790067Z",
     "shell.execute_reply": "2021-11-29T13:50:25.789144Z",
     "shell.execute_reply.started": "2021-11-29T13:48:54.839900Z"
    },
    "id": "XgHWQ2SK2cH4",
    "papermill": {
     "duration": 0.710426,
     "end_time": "2021-11-29T13:50:25.790212",
     "exception": false,
     "start_time": "2021-11-29T13:50:25.079786",
     "status": "completed"
    },
    "tags": []
   },
   "outputs": [],
   "source": [
    "from sklearn.preprocessing import MinMaxScaler\n",
    "MMS = MinMaxScaler()\n",
    "infosys_stock_data[infosys_stock_data.columns] = MMS.fit_transform(infosys_stock_data)"
   ]
  },
  {
   "cell_type": "code",
   "execution_count": 8,
   "id": "ff1cc5d7",
   "metadata": {
    "execution": {
     "iopub.execute_input": "2021-11-29T13:50:25.846038Z",
     "iopub.status.busy": "2021-11-29T13:50:25.845174Z",
     "iopub.status.idle": "2021-11-29T13:50:25.848738Z",
     "shell.execute_reply": "2021-11-29T13:50:25.848236Z",
     "shell.execute_reply.started": "2021-11-29T13:48:54.851721Z"
    },
    "id": "vUhYPfaR2cP0",
    "outputId": "8037611d-ad8d-4be7-ae8e-2482c6204932",
    "papermill": {
     "duration": 0.033285,
     "end_time": "2021-11-29T13:50:25.848868",
     "exception": false,
     "start_time": "2021-11-29T13:50:25.815583",
     "status": "completed"
    },
    "tags": []
   },
   "outputs": [
    {
     "data": {
      "text/plain": [
       "(1728, 2)"
      ]
     },
     "execution_count": 8,
     "metadata": {},
     "output_type": "execute_result"
    }
   ],
   "source": [
    "infosys_stock_data.shape"
   ]
  },
  {
   "cell_type": "code",
   "execution_count": 9,
   "id": "481642fe",
   "metadata": {
    "execution": {
     "iopub.execute_input": "2021-11-29T13:50:25.904935Z",
     "iopub.status.busy": "2021-11-29T13:50:25.904184Z",
     "iopub.status.idle": "2021-11-29T13:50:25.907484Z",
     "shell.execute_reply": "2021-11-29T13:50:25.907086Z",
     "shell.execute_reply.started": "2021-11-29T13:48:54.860935Z"
    },
    "id": "o4shudsl2cS3",
    "outputId": "885f7989-ad9c-4723-9626-54b58b382c1e",
    "papermill": {
     "duration": 0.033078,
     "end_time": "2021-11-29T13:50:25.907591",
     "exception": false,
     "start_time": "2021-11-29T13:50:25.874513",
     "status": "completed"
    },
    "tags": []
   },
   "outputs": [
    {
     "data": {
      "text/plain": [
       "1382"
      ]
     },
     "execution_count": 9,
     "metadata": {},
     "output_type": "execute_result"
    }
   ],
   "source": [
    "training_size = round(len(infosys_stock_data) * 0.80) # Selecting 80 % for training and 20 % for testing\n",
    "training_size"
   ]
  },
  {
   "cell_type": "code",
   "execution_count": 10,
   "id": "f2dda89b",
   "metadata": {
    "execution": {
     "iopub.execute_input": "2021-11-29T13:50:25.971799Z",
     "iopub.status.busy": "2021-11-29T13:50:25.969611Z",
     "iopub.status.idle": "2021-11-29T13:50:25.974770Z",
     "shell.execute_reply": "2021-11-29T13:50:25.975457Z",
     "shell.execute_reply.started": "2021-11-29T13:48:54.870555Z"
    },
    "id": "XWI_TMQC2cWB",
    "outputId": "1cf28a43-311a-4ef4-db20-d3f22c7ef51e",
    "papermill": {
     "duration": 0.042465,
     "end_time": "2021-11-29T13:50:25.975637",
     "exception": false,
     "start_time": "2021-11-29T13:50:25.933172",
     "status": "completed"
    },
    "tags": []
   },
   "outputs": [
    {
     "data": {
      "text/plain": [
       "((1382, 2), (346, 2))"
      ]
     },
     "execution_count": 10,
     "metadata": {},
     "output_type": "execute_result"
    }
   ],
   "source": [
    "train_data = infosys_stock_data[:training_size]\n",
    "test_data  = infosys_stock_data[training_size:]\n",
    "\n",
    "train_data.shape, test_data.shape"
   ]
  },
  {
   "cell_type": "code",
   "execution_count": 11,
   "id": "a5200702",
   "metadata": {
    "execution": {
     "iopub.execute_input": "2021-11-29T13:50:26.059820Z",
     "iopub.status.busy": "2021-11-29T13:50:26.058940Z",
     "iopub.status.idle": "2021-11-29T13:50:26.060837Z",
     "shell.execute_reply": "2021-11-29T13:50:26.061233Z",
     "shell.execute_reply.started": "2021-11-29T13:48:54.885145Z"
    },
    "id": "CqpXvPeD7zUY",
    "papermill": {
     "duration": 0.040061,
     "end_time": "2021-11-29T13:50:26.061364",
     "exception": false,
     "start_time": "2021-11-29T13:50:26.021303",
     "status": "completed"
    },
    "tags": []
   },
   "outputs": [],
   "source": [
    "# Function to create sequence of data for training and testing\n",
    "\n",
    "def create_sequence(dataset):\n",
    "  sequences = []\n",
    "  labels = []\n",
    "\n",
    "  start_idx = 0\n",
    "\n",
    "  for stop_idx in range(50,len(dataset)): # Selecting 50 rows at a time\n",
    "    sequences.append(dataset.iloc[start_idx:stop_idx])\n",
    "    labels.append(dataset.iloc[stop_idx])\n",
    "    start_idx += 1\n",
    "  return (np.array(sequences),np.array(labels))\n"
   ]
  },
  {
   "cell_type": "code",
   "execution_count": 12,
   "id": "cfb20189",
   "metadata": {
    "execution": {
     "iopub.execute_input": "2021-11-29T13:50:26.238579Z",
     "iopub.status.busy": "2021-11-29T13:50:26.228592Z",
     "iopub.status.idle": "2021-11-29T13:50:26.474567Z",
     "shell.execute_reply": "2021-11-29T13:50:26.473990Z",
     "shell.execute_reply.started": "2021-11-29T13:48:54.894459Z"
    },
    "id": "xqkyw0e-7zW3",
    "papermill": {
     "duration": 0.386764,
     "end_time": "2021-11-29T13:50:26.474713",
     "exception": false,
     "start_time": "2021-11-29T13:50:26.087949",
     "status": "completed"
    },
    "tags": []
   },
   "outputs": [],
   "source": [
    "train_seq, train_label = create_sequence(train_data)\n",
    "test_seq, test_label = create_sequence(test_data)"
   ]
  },
  {
   "cell_type": "code",
   "execution_count": 13,
   "id": "742e613e",
   "metadata": {
    "execution": {
     "iopub.execute_input": "2021-11-29T13:50:26.539660Z",
     "iopub.status.busy": "2021-11-29T13:50:26.538729Z",
     "iopub.status.idle": "2021-11-29T13:50:26.541985Z",
     "shell.execute_reply": "2021-11-29T13:50:26.542452Z",
     "shell.execute_reply.started": "2021-11-29T13:48:55.089605Z"
    },
    "id": "ZpsCI6jf_oC2",
    "outputId": "1c0a74ae-8205-44a9-8748-18318845a365",
    "papermill": {
     "duration": 0.038202,
     "end_time": "2021-11-29T13:50:26.542583",
     "exception": false,
     "start_time": "2021-11-29T13:50:26.504381",
     "status": "completed"
    },
    "tags": []
   },
   "outputs": [
    {
     "data": {
      "text/plain": [
       "((1332, 50, 2), (1332, 2), (296, 50, 2), (296, 2))"
      ]
     },
     "execution_count": 13,
     "metadata": {},
     "output_type": "execute_result"
    }
   ],
   "source": [
    "train_seq.shape, train_label.shape, test_seq.shape, test_label.shape"
   ]
  },
  {
   "cell_type": "markdown",
   "id": "fe299b44",
   "metadata": {
    "id": "lbRE8i0Y6GGL",
    "papermill": {
     "duration": 0.029508,
     "end_time": "2021-11-29T13:50:26.601175",
     "exception": false,
     "start_time": "2021-11-29T13:50:26.571667",
     "status": "completed"
    },
    "tags": []
   },
   "source": [
    "# Creating LSTM model"
   ]
  },
  {
   "cell_type": "code",
   "execution_count": 14,
   "id": "89bfd1cc",
   "metadata": {
    "execution": {
     "iopub.execute_input": "2021-11-29T13:50:26.691126Z",
     "iopub.status.busy": "2021-11-29T13:50:26.689658Z",
     "iopub.status.idle": "2021-11-29T13:50:31.283100Z",
     "shell.execute_reply": "2021-11-29T13:50:31.282463Z",
     "shell.execute_reply.started": "2021-11-29T13:48:55.098122Z"
    },
    "id": "etmB-Lbd7zZa",
    "papermill": {
     "duration": 4.650091,
     "end_time": "2021-11-29T13:50:31.283263",
     "exception": false,
     "start_time": "2021-11-29T13:50:26.633172",
     "status": "completed"
    },
    "tags": []
   },
   "outputs": [],
   "source": [
    "from keras.models import Sequential\n",
    "from keras.layers import Dense, Dropout, LSTM, Bidirectional"
   ]
  },
  {
   "cell_type": "code",
   "execution_count": 15,
   "id": "3c9ba91e",
   "metadata": {
    "execution": {
     "iopub.execute_input": "2021-11-29T13:50:31.345243Z",
     "iopub.status.busy": "2021-11-29T13:50:31.344593Z",
     "iopub.status.idle": "2021-11-29T13:50:34.144339Z",
     "shell.execute_reply": "2021-11-29T13:50:34.144950Z",
     "shell.execute_reply.started": "2021-11-29T13:48:55.107419Z"
    },
    "id": "FntEHOeG7zcE",
    "outputId": "870dc502-f598-4826-ef48-25724058761d",
    "papermill": {
     "duration": 2.834539,
     "end_time": "2021-11-29T13:50:34.145200",
     "exception": false,
     "start_time": "2021-11-29T13:50:31.310661",
     "status": "completed"
    },
    "tags": []
   },
   "outputs": [
    {
     "name": "stdout",
     "output_type": "stream",
     "text": [
      "Model: \"sequential\"\n",
      "_________________________________________________________________\n",
      "Layer (type)                 Output Shape              Param #   \n",
      "=================================================================\n",
      "lstm (LSTM)                  (None, 50, 70)            20440     \n",
      "_________________________________________________________________\n",
      "dropout (Dropout)            (None, 50, 70)            0         \n",
      "_________________________________________________________________\n",
      "lstm_1 (LSTM)                (None, 70)                39480     \n",
      "_________________________________________________________________\n",
      "dense (Dense)                (None, 2)                 142       \n",
      "=================================================================\n",
      "Total params: 60,062\n",
      "Trainable params: 60,062\n",
      "Non-trainable params: 0\n",
      "_________________________________________________________________\n"
     ]
    }
   ],
   "source": [
    "model = Sequential()\n",
    "model.add(LSTM(units=70, return_sequences=True, input_shape = (train_seq.shape[1], train_seq.shape[2])))\n",
    "\n",
    "model.add(Dropout(0.1)) \n",
    "model.add(LSTM(units=70))\n",
    "\n",
    "model.add(Dense(2))\n",
    "\n",
    "model.compile(loss='mean_squared_error', optimizer='adam',metrics=['accuracy'])\n",
    "\n",
    "model.summary()"
   ]
  },
  {
   "cell_type": "code",
   "execution_count": 17,
   "id": "89bbd310",
   "metadata": {
    "_kg_hide-output": true,
    "execution": {
     "iopub.execute_input": "2021-11-29T13:50:34.264567Z",
     "iopub.status.busy": "2021-11-29T13:50:34.259488Z",
     "iopub.status.idle": "2021-11-29T13:51:17.928289Z",
     "shell.execute_reply": "2021-11-29T13:51:17.928903Z",
     "shell.execute_reply.started": "2021-11-29T13:48:55.516580Z"
    },
    "id": "5sFY8gn97zeC",
    "outputId": "2ee9dfaf-e6de-4f98-bd24-fedc69f238b5",
    "papermill": {
     "duration": 43.722993,
     "end_time": "2021-11-29T13:51:17.929098",
     "exception": false,
     "start_time": "2021-11-29T13:50:34.206105",
     "status": "completed"
    },
    "tags": []
   },
   "outputs": [
    {
     "name": "stdout",
     "output_type": "stream",
     "text": [
      "Epoch 1/5\n",
      "42/42 [==============================] - 5s 121ms/step - loss: 1.2013e-04 - accuracy: 0.6044 - val_loss: 6.3378e-04 - val_accuracy: 0.5338\n",
      "Epoch 2/5\n",
      "42/42 [==============================] - 4s 105ms/step - loss: 1.2181e-04 - accuracy: 0.5878 - val_loss: 0.0014 - val_accuracy: 0.4932\n",
      "Epoch 3/5\n",
      "42/42 [==============================] - 5s 112ms/step - loss: 1.1678e-04 - accuracy: 0.6201 - val_loss: 0.0021 - val_accuracy: 0.5304\n",
      "Epoch 4/5\n",
      "42/42 [==============================] - 5s 129ms/step - loss: 1.0270e-04 - accuracy: 0.6074 - val_loss: 5.4590e-04 - val_accuracy: 0.5304\n",
      "Epoch 5/5\n",
      "42/42 [==============================] - 5s 122ms/step - loss: 1.0803e-04 - accuracy: 0.5908 - val_loss: 0.0011 - val_accuracy: 0.5338\n"
     ]
    },
    {
     "data": {
      "text/plain": [
       "<keras.callbacks.History at 0x20c46361fd0>"
      ]
     },
     "execution_count": 17,
     "metadata": {},
     "output_type": "execute_result"
    }
   ],
   "source": [
    "model.fit(train_seq, train_label, epochs=5,validation_data=(test_seq, test_label), verbose=1)"
   ]
  },
  {
   "cell_type": "code",
   "execution_count": 18,
   "id": "00a066fd",
   "metadata": {
    "execution": {
     "iopub.execute_input": "2021-11-29T13:51:18.207348Z",
     "iopub.status.busy": "2021-11-29T13:51:18.206496Z",
     "iopub.status.idle": "2021-11-29T13:51:18.771138Z",
     "shell.execute_reply": "2021-11-29T13:51:18.770439Z",
     "shell.execute_reply.started": "2021-11-29T13:49:18.810485Z"
    },
    "id": "UPkxNcyo7zgX",
    "outputId": "8e246086-8b8b-4834-ce91-54333b128398",
    "papermill": {
     "duration": 0.706009,
     "end_time": "2021-11-29T13:51:18.771268",
     "exception": false,
     "start_time": "2021-11-29T13:51:18.065259",
     "status": "completed"
    },
    "tags": []
   },
   "outputs": [
    {
     "data": {
      "text/plain": [
       "array([[0.4516157 , 0.447854  ],\n",
       "       [0.44207406, 0.4391856 ],\n",
       "       [0.4361124 , 0.4331257 ],\n",
       "       [0.44130766, 0.43671504],\n",
       "       [0.45253345, 0.44646895]], dtype=float32)"
      ]
     },
     "execution_count": 18,
     "metadata": {},
     "output_type": "execute_result"
    }
   ],
   "source": [
    "test_predicted = model.predict(test_seq)\n",
    "test_predicted[:5]"
   ]
  },
  {
   "cell_type": "code",
   "execution_count": 19,
   "id": "d6fcdf6d",
   "metadata": {
    "execution": {
     "iopub.execute_input": "2021-11-29T13:51:19.050901Z",
     "iopub.status.busy": "2021-11-29T13:51:19.050171Z",
     "iopub.status.idle": "2021-11-29T13:51:19.052912Z",
     "shell.execute_reply": "2021-11-29T13:51:19.053381Z",
     "shell.execute_reply.started": "2021-11-29T13:49:19.632807Z"
    },
    "id": "DvRmpGcwLPhu",
    "outputId": "5a6b4974-370f-440d-bf4b-ca2d17b51f83",
    "papermill": {
     "duration": 0.14273,
     "end_time": "2021-11-29T13:51:19.053517",
     "exception": false,
     "start_time": "2021-11-29T13:51:18.910787",
     "status": "completed"
    },
    "tags": []
   },
   "outputs": [
    {
     "data": {
      "text/plain": [
       "array([[1115.4397, 1109.6954],\n",
       "       [1101.1797, 1096.6703],\n",
       "       [1092.27  , 1087.5647],\n",
       "       [1100.0343, 1092.958 ],\n",
       "       [1116.8112, 1107.6143]], dtype=float32)"
      ]
     },
     "execution_count": 19,
     "metadata": {},
     "output_type": "execute_result"
    }
   ],
   "source": [
    "test_inverse_predicted = MMS.inverse_transform(test_predicted) # Inversing scaling on predicted data\n",
    "test_inverse_predicted[:5]"
   ]
  },
  {
   "cell_type": "markdown",
   "id": "d5e0763f",
   "metadata": {
    "id": "3fX0hFZM61cO",
    "papermill": {
     "duration": 0.135195,
     "end_time": "2021-11-29T13:51:19.327400",
     "exception": false,
     "start_time": "2021-11-29T13:51:19.192205",
     "status": "completed"
    },
    "tags": []
   },
   "source": [
    "# Visualizing predicted and actual data"
   ]
  },
  {
   "cell_type": "code",
   "execution_count": 22,
   "id": "b1482c2b",
   "metadata": {
    "execution": {
     "iopub.execute_input": "2021-11-29T13:51:19.604064Z",
     "iopub.status.busy": "2021-11-29T13:51:19.602429Z",
     "iopub.status.idle": "2021-11-29T13:51:19.604676Z",
     "shell.execute_reply": "2021-11-29T13:51:19.605114Z",
     "shell.execute_reply.started": "2021-11-29T13:49:19.643481Z"
    },
    "id": "7KWDJaXAL8RT",
    "papermill": {
     "duration": 0.14293,
     "end_time": "2021-11-29T13:51:19.605250",
     "exception": false,
     "start_time": "2021-11-29T13:51:19.462320",
     "status": "completed"
    },
    "tags": []
   },
   "outputs": [],
   "source": [
    "# Merging actual and predicted data for better visualization\n",
    "\n",
    "gs_slic_data = pd.concat([infosys_stock_data.iloc[-296:].copy(),pd.DataFrame(test_inverse_predicted,columns=['open_predicted','close_predicted'],index=infosys_stock_data.iloc[-296:].index)], axis=1)"
   ]
  },
  {
   "cell_type": "code",
   "execution_count": 23,
   "id": "0f71d152",
   "metadata": {
    "execution": {
     "iopub.execute_input": "2021-11-29T13:51:19.880857Z",
     "iopub.status.busy": "2021-11-29T13:51:19.880216Z",
     "iopub.status.idle": "2021-11-29T13:51:19.883242Z",
     "shell.execute_reply": "2021-11-29T13:51:19.882723Z",
     "shell.execute_reply.started": "2021-11-29T13:49:19.653884Z"
    },
    "id": "VhQ1_JnJ0oYE",
    "papermill": {
     "duration": 0.144781,
     "end_time": "2021-11-29T13:51:19.883366",
     "exception": false,
     "start_time": "2021-11-29T13:51:19.738585",
     "status": "completed"
    },
    "tags": []
   },
   "outputs": [],
   "source": [
    "gs_slic_data[['Open','Close']] = MMS.inverse_transform(gs_slic_data[['Open','Close']]) # Inverse scaling"
   ]
  },
  {
   "cell_type": "code",
   "execution_count": 24,
   "id": "a10799e0",
   "metadata": {
    "execution": {
     "iopub.execute_input": "2021-11-29T13:51:20.162595Z",
     "iopub.status.busy": "2021-11-29T13:51:20.161846Z",
     "iopub.status.idle": "2021-11-29T13:51:20.164892Z",
     "shell.execute_reply": "2021-11-29T13:51:20.165390Z",
     "shell.execute_reply.started": "2021-11-29T13:49:19.666415Z"
    },
    "id": "M1fsx6gTO3io",
    "outputId": "7b5be0fb-8fab-44ca-9346-4163a6536d26",
    "papermill": {
     "duration": 0.148138,
     "end_time": "2021-11-29T13:51:20.165530",
     "exception": false,
     "start_time": "2021-11-29T13:51:20.017392",
     "status": "completed"
    },
    "tags": []
   },
   "outputs": [
    {
     "data": {
      "text/html": [
       "<div>\n",
       "<style scoped>\n",
       "    .dataframe tbody tr th:only-of-type {\n",
       "        vertical-align: middle;\n",
       "    }\n",
       "\n",
       "    .dataframe tbody tr th {\n",
       "        vertical-align: top;\n",
       "    }\n",
       "\n",
       "    .dataframe thead th {\n",
       "        text-align: right;\n",
       "    }\n",
       "</style>\n",
       "<table border=\"1\" class=\"dataframe\">\n",
       "  <thead>\n",
       "    <tr style=\"text-align: right;\">\n",
       "      <th></th>\n",
       "      <th>Open</th>\n",
       "      <th>Close</th>\n",
       "      <th>open_predicted</th>\n",
       "      <th>close_predicted</th>\n",
       "    </tr>\n",
       "    <tr>\n",
       "      <th>Date</th>\n",
       "      <th></th>\n",
       "      <th></th>\n",
       "      <th></th>\n",
       "      <th></th>\n",
       "    </tr>\n",
       "  </thead>\n",
       "  <tbody>\n",
       "    <tr>\n",
       "      <th>2020-11-19</th>\n",
       "      <td>1104.650024</td>\n",
       "      <td>1096.449951</td>\n",
       "      <td>1115.439697</td>\n",
       "      <td>1109.695435</td>\n",
       "    </tr>\n",
       "    <tr>\n",
       "      <th>2020-11-20</th>\n",
       "      <td>1105.500000</td>\n",
       "      <td>1103.050049</td>\n",
       "      <td>1101.179688</td>\n",
       "      <td>1096.670288</td>\n",
       "    </tr>\n",
       "    <tr>\n",
       "      <th>2020-11-23</th>\n",
       "      <td>1103.199951</td>\n",
       "      <td>1140.250000</td>\n",
       "      <td>1092.270020</td>\n",
       "      <td>1087.564697</td>\n",
       "    </tr>\n",
       "    <tr>\n",
       "      <th>2020-11-24</th>\n",
       "      <td>1144.000000</td>\n",
       "      <td>1139.150024</td>\n",
       "      <td>1100.034302</td>\n",
       "      <td>1092.958008</td>\n",
       "    </tr>\n",
       "    <tr>\n",
       "      <th>2020-11-25</th>\n",
       "      <td>1139.000000</td>\n",
       "      <td>1116.199951</td>\n",
       "      <td>1116.811157</td>\n",
       "      <td>1107.614258</td>\n",
       "    </tr>\n",
       "  </tbody>\n",
       "</table>\n",
       "</div>"
      ],
      "text/plain": [
       "                   Open        Close  open_predicted  close_predicted\n",
       "Date                                                                 \n",
       "2020-11-19  1104.650024  1096.449951     1115.439697      1109.695435\n",
       "2020-11-20  1105.500000  1103.050049     1101.179688      1096.670288\n",
       "2020-11-23  1103.199951  1140.250000     1092.270020      1087.564697\n",
       "2020-11-24  1144.000000  1139.150024     1100.034302      1092.958008\n",
       "2020-11-25  1139.000000  1116.199951     1116.811157      1107.614258"
      ]
     },
     "execution_count": 24,
     "metadata": {},
     "output_type": "execute_result"
    }
   ],
   "source": [
    "gs_slic_data.head()"
   ]
  },
  {
   "cell_type": "code",
   "execution_count": 25,
   "id": "6313352b",
   "metadata": {
    "execution": {
     "iopub.execute_input": "2021-11-29T13:51:20.444637Z",
     "iopub.status.busy": "2021-11-29T13:51:20.444000Z",
     "iopub.status.idle": "2021-11-29T13:51:20.733288Z",
     "shell.execute_reply": "2021-11-29T13:51:20.733701Z",
     "shell.execute_reply.started": "2021-11-29T13:49:19.687236Z"
    },
    "id": "CFS9w3P30Hig",
    "outputId": "66adef77-4f7e-452e-9971-d7479a5c6a2a",
    "papermill": {
     "duration": 0.428726,
     "end_time": "2021-11-29T13:51:20.733862",
     "exception": false,
     "start_time": "2021-11-29T13:51:20.305136",
     "status": "completed"
    },
    "tags": []
   },
   "outputs": [
    {
     "data": {
      "image/png": "[encoded data removed]",
      "text/plain": [
       "<Figure size 720x432 with 1 Axes>"
      ]
     },
     "metadata": {
      "needs_background": "light"
     },
     "output_type": "display_data"
    }
   ],
   "source": [
    "gs_slic_data[['Open','open_predicted']].plot(figsize=(10,6))\n",
    "plt.xticks(rotation=45)\n",
    "plt.xlabel('Date',size=15)\n",
    "plt.ylabel('Stock Price',size=15)\n",
    "plt.title('Actual vs Predicted for open price',size=15)\n",
    "plt.show()"
   ]
  },
  {
   "cell_type": "code",
   "execution_count": 26,
   "id": "4b05123b",
   "metadata": {
    "execution": {
     "iopub.execute_input": "2021-11-29T13:51:21.026765Z",
     "iopub.status.busy": "2021-11-29T13:51:21.025624Z",
     "iopub.status.idle": "2021-11-29T13:51:21.298379Z",
     "shell.execute_reply": "2021-11-29T13:51:21.298843Z",
     "shell.execute_reply.started": "2021-11-29T13:49:19.996117Z"
    },
    "id": "YEYigZI8PFo1",
    "outputId": "0a9b81e8-2008-4058-dada-662c91108822",
    "papermill": {
     "duration": 0.430469,
     "end_time": "2021-11-29T13:51:21.298994",
     "exception": false,
     "start_time": "2021-11-29T13:51:20.868525",
     "status": "completed"
    },
    "tags": []
   },
   "outputs": [
    {
     "data": {
      "image/png": "[encoded data removed]",
      "text/plain": [
       "<Figure size 720x432 with 1 Axes>"
      ]
     },
     "metadata": {
      "needs_background": "light"
     },
     "output_type": "display_data"
    }
   ],
   "source": [
    "gs_slic_data[['Close','close_predicted']].plot(figsize=(10,6))\n",
    "plt.xticks(rotation=45)\n",
    "plt.xlabel('Date',size=15)\n",
    "plt.ylabel('Stock Price',size=15)\n",
    "plt.title('Actual vs Predicted for close price',size=15)\n",
    "plt.show()"
   ]
  },
  {
   "cell_type": "markdown",
   "id": "d404369a",
   "metadata": {
    "id": "WeWDN9x_6RIt",
    "papermill": {
     "duration": 0.135991,
     "end_time": "2021-11-29T13:51:21.574630",
     "exception": false,
     "start_time": "2021-11-29T13:51:21.438639",
     "status": "completed"
    },
    "tags": []
   },
   "source": [
    "# Predicting upcoming 10 days"
   ]
  },
  {
   "cell_type": "code",
   "execution_count": 27,
   "id": "904b10e1",
   "metadata": {
    "execution": {
     "iopub.execute_input": "2021-11-29T13:51:21.863813Z",
     "iopub.status.busy": "2021-11-29T13:51:21.862906Z",
     "iopub.status.idle": "2021-11-29T13:51:21.864849Z",
     "shell.execute_reply": "2021-11-29T13:51:21.865302Z",
     "shell.execute_reply.started": "2021-11-29T13:49:20.293808Z"
    },
    "id": "ByoVNOEn0Ht4",
    "papermill": {
     "duration": 0.149481,
     "end_time": "2021-11-29T13:51:21.865439",
     "exception": false,
     "start_time": "2021-11-29T13:51:21.715958",
     "status": "completed"
    },
    "tags": []
   },
   "outputs": [],
   "source": [
    "# Creating a dataframe and adding 10 days to existing index \n",
    "\n",
    "gs_slic_data = gs_slic_data.append(pd.DataFrame(columns=gs_slic_data.columns,index=pd.date_range(start=gs_slic_data.index[-1], periods=11, freq='D', closed='right')))\n"
   ]
  },
  {
   "cell_type": "code",
   "execution_count": 28,
   "id": "d2f9bda9",
   "metadata": {
    "execution": {
     "iopub.execute_input": "2021-11-29T13:51:22.160082Z",
     "iopub.status.busy": "2021-11-29T13:51:22.159226Z",
     "iopub.status.idle": "2021-11-29T13:51:22.162214Z",
     "shell.execute_reply": "2021-11-29T13:51:22.162638Z",
     "shell.execute_reply.started": "2021-11-29T13:49:20.302965Z"
    },
    "id": "1s1rK-LV9Se_",
    "outputId": "6992b3eb-8fd2-46e8-bf57-5d63315720a1",
    "papermill": {
     "duration": 0.158094,
     "end_time": "2021-11-29T13:51:22.162804",
     "exception": false,
     "start_time": "2021-11-29T13:51:22.004710",
     "status": "completed"
    },
    "tags": []
   },
   "outputs": [
    {
     "data": {
      "text/html": [
       "<div>\n",
       "<style scoped>\n",
       "    .dataframe tbody tr th:only-of-type {\n",
       "        vertical-align: middle;\n",
       "    }\n",
       "\n",
       "    .dataframe tbody tr th {\n",
       "        vertical-align: top;\n",
       "    }\n",
       "\n",
       "    .dataframe thead th {\n",
       "        text-align: right;\n",
       "    }\n",
       "</style>\n",
       "<table border=\"1\" class=\"dataframe\">\n",
       "  <thead>\n",
       "    <tr style=\"text-align: right;\">\n",
       "      <th></th>\n",
       "      <th>Open</th>\n",
       "      <th>Close</th>\n",
       "      <th>open_predicted</th>\n",
       "      <th>close_predicted</th>\n",
       "    </tr>\n",
       "  </thead>\n",
       "  <tbody>\n",
       "    <tr>\n",
       "      <th>2022-01-24</th>\n",
       "      <td>1770.0</td>\n",
       "      <td>1736.900024</td>\n",
       "      <td>1727.963623</td>\n",
       "      <td>1724.187866</td>\n",
       "    </tr>\n",
       "    <tr>\n",
       "      <th>2022-01-25</th>\n",
       "      <td>1725.0</td>\n",
       "      <td>1722.099976</td>\n",
       "      <td>1674.781738</td>\n",
       "      <td>1669.471924</td>\n",
       "    </tr>\n",
       "    <tr>\n",
       "      <th>2022-01-27</th>\n",
       "      <td>1704.0</td>\n",
       "      <td>1678.500000</td>\n",
       "      <td>1639.309204</td>\n",
       "      <td>1629.907104</td>\n",
       "    </tr>\n",
       "    <tr>\n",
       "      <th>2022-01-28</th>\n",
       "      <td>1685.0</td>\n",
       "      <td>1685.250000</td>\n",
       "      <td>1610.498169</td>\n",
       "      <td>1598.019775</td>\n",
       "    </tr>\n",
       "  </tbody>\n",
       "</table>\n",
       "</div>"
      ],
      "text/plain": [
       "              Open        Close  open_predicted  close_predicted\n",
       "2022-01-24  1770.0  1736.900024     1727.963623      1724.187866\n",
       "2022-01-25  1725.0  1722.099976     1674.781738      1669.471924\n",
       "2022-01-27  1704.0  1678.500000     1639.309204      1629.907104\n",
       "2022-01-28  1685.0  1685.250000     1610.498169      1598.019775"
      ]
     },
     "execution_count": 28,
     "metadata": {},
     "output_type": "execute_result"
    }
   ],
   "source": [
    "gs_slic_data['2022-01-23':'2022-01-28']"
   ]
  },
  {
   "cell_type": "code",
   "execution_count": 29,
   "id": "452632e8",
   "metadata": {
    "execution": {
     "iopub.execute_input": "2021-11-29T13:51:22.464480Z",
     "iopub.status.busy": "2021-11-29T13:51:22.463554Z",
     "iopub.status.idle": "2021-11-29T13:51:22.465737Z",
     "shell.execute_reply": "2021-11-29T13:51:22.466157Z",
     "shell.execute_reply.started": "2021-11-29T13:49:20.324276Z"
    },
    "id": "NZrOofTiTUpA",
    "papermill": {
     "duration": 0.151721,
     "end_time": "2021-11-29T13:51:22.466304",
     "exception": false,
     "start_time": "2021-11-29T13:51:22.314583",
     "status": "completed"
    },
    "tags": []
   },
   "outputs": [],
   "source": [
    "upcoming_prediction = pd.DataFrame(columns=['Open','Close'],index=gs_slic_data.index)\n",
    "upcoming_prediction.index=pd.to_datetime(upcoming_prediction.index)"
   ]
  },
  {
   "cell_type": "code",
   "execution_count": 30,
   "id": "c219f9fe",
   "metadata": {
    "execution": {
     "iopub.execute_input": "2021-11-29T13:51:22.755255Z",
     "iopub.status.busy": "2021-11-29T13:51:22.754366Z",
     "iopub.status.idle": "2021-11-29T13:51:23.192659Z",
     "shell.execute_reply": "2021-11-29T13:51:23.191262Z",
     "shell.execute_reply.started": "2021-11-29T13:49:20.337962Z"
    },
    "id": "fexYhMesZHEy",
    "papermill": {
     "duration": 0.586524,
     "end_time": "2021-11-29T13:51:23.192863",
     "exception": false,
     "start_time": "2021-11-29T13:51:22.606339",
     "status": "completed"
    },
    "tags": []
   },
   "outputs": [],
   "source": [
    "curr_seq = test_seq[-1:]\n",
    "\n",
    "for i in range(-10,0):\n",
    "  up_pred = model.predict(curr_seq)\n",
    "  upcoming_prediction.iloc[i] = up_pred\n",
    "  curr_seq = np.append(curr_seq[0][1:],up_pred,axis=0)\n",
    "  curr_seq = curr_seq.reshape(test_seq[-1:].shape)\n"
   ]
  },
  {
   "cell_type": "code",
   "execution_count": 31,
   "id": "06dcba60",
   "metadata": {
    "execution": {
     "iopub.execute_input": "2021-11-29T13:51:23.639282Z",
     "iopub.status.busy": "2021-11-29T13:51:23.637529Z",
     "iopub.status.idle": "2021-11-29T13:51:23.639869Z",
     "shell.execute_reply": "2021-11-29T13:51:23.640303Z",
     "shell.execute_reply.started": "2021-11-29T13:49:20.727490Z"
    },
    "id": "ffiWW_EIZHMT",
    "papermill": {
     "duration": 0.219046,
     "end_time": "2021-11-29T13:51:23.640455",
     "exception": false,
     "start_time": "2021-11-29T13:51:23.421409",
     "status": "completed"
    },
    "tags": []
   },
   "outputs": [],
   "source": [
    "upcoming_prediction[['Open','Close']] = MMS.inverse_transform(upcoming_prediction[['Open','Close']])"
   ]
  },
  {
   "cell_type": "code",
   "execution_count": 32,
   "id": "bdd20807",
   "metadata": {
    "execution": {
     "iopub.execute_input": "2021-11-29T13:51:23.943693Z",
     "iopub.status.busy": "2021-11-29T13:51:23.942573Z",
     "iopub.status.idle": "2021-11-29T13:51:24.197160Z",
     "shell.execute_reply": "2021-11-29T13:51:24.196409Z",
     "shell.execute_reply.started": "2021-11-29T13:49:20.735924Z"
    },
    "id": "4DvMiPkTVlEe",
    "outputId": "c1ec957f-b7a4-46ed-858e-7a230b341ffa",
    "papermill": {
     "duration": 0.418763,
     "end_time": "2021-11-29T13:51:24.197289",
     "exception": false,
     "start_time": "2021-11-29T13:51:23.778526",
     "status": "completed"
    },
    "tags": []
   },
   "outputs": [
    {
     "data": {
      "image/png": "[encoded data removed]",
      "text/plain": [
       "<Figure size 720x360 with 1 Axes>"
      ]
     },
     "metadata": {
      "needs_background": "light"
     },
     "output_type": "display_data"
    }
   ],
   "source": [
    "fg,ax=plt.subplots(figsize=(10,5))\n",
    "ax.plot(gs_slic_data.loc['2022-01-25':,'Open'],label='Current Open Price')\n",
    "ax.plot(upcoming_prediction.loc['2022-01-25':,'Open'],label='Upcoming Open Price')\n",
    "plt.setp(ax.xaxis.get_majorticklabels(), rotation=45)\n",
    "ax.set_xlabel('Date',size=15)\n",
    "ax.set_ylabel('Stock Price',size=15)\n",
    "ax.set_title('Upcoming Open price prediction',size=15)\n",
    "ax.legend()\n",
    "fg.show()"
   ]
  },
  {
   "cell_type": "code",
   "execution_count": 33,
   "id": "6cefc709",
   "metadata": {
    "execution": {
     "iopub.execute_input": "2021-11-29T13:51:24.505007Z",
     "iopub.status.busy": "2021-11-29T13:51:24.504069Z",
     "iopub.status.idle": "2021-11-29T13:51:24.751453Z",
     "shell.execute_reply": "2021-11-29T13:51:24.751904Z",
     "shell.execute_reply.started": "2021-11-29T13:49:21.029698Z"
    },
    "id": "r9EK16p7m8ZK",
    "outputId": "6bd4e931-511c-4575-ee32-339fca13794a",
    "papermill": {
     "duration": 0.41601,
     "end_time": "2021-11-29T13:51:24.752112",
     "exception": false,
     "start_time": "2021-11-29T13:51:24.336102",
     "status": "completed"
    },
    "scrolled": true,
    "tags": []
   },
   "outputs": [
    {
     "data": {
      "image/png": "[encoded data removed]",
      "text/plain": [
       "<Figure size 720x360 with 1 Axes>"
      ]
     },
     "metadata": {
      "needs_background": "light"
     },
     "output_type": "display_data"
    }
   ],
   "source": [
    "fg,ax=plt.subplots(figsize=(10,5))\n",
    "ax.plot(gs_slic_data.loc['2022-01-24':,'Close'],label='Current close Price')\n",
    "ax.plot(upcoming_prediction.loc['2022-01-24':,'Close'],label='Upcoming close Price')\n",
    "plt.setp(ax.xaxis.get_majorticklabels(), rotation=45)\n",
    "ax.set_xlabel('Date',size=15)\n",
    "ax.set_ylabel('Stock Price',size=15)\n",
    "ax.set_title('Upcoming close price prediction',size=15)\n",
    "ax.legend()\n",
    "fg.show()"
   ]
  },
  {
   "cell_type": "code",
   "execution_count": null,
   "id": "b9950b45",
   "metadata": {},
   "outputs": [],
   "source": []
  },
  {
   "cell_type": "code",
   "execution_count": null,
   "id": "448197ef",
   "metadata": {},
   "outputs": [],
   "source": [
    "\n"
   ]
  },
  {
   "cell_type": "code",
   "execution_count": null,
   "id": "fbf027d4",
   "metadata": {},
   "outputs": [],
   "source": []
  },
  {
   "cell_type": "code",
   "execution_count": null,
   "id": "6218dd6d",
   "metadata": {},
   "outputs": [],
   "source": []
  },
  {
   "cell_type": "code",
   "execution_count": null,
   "id": "7b048cba",
   "metadata": {},
   "outputs": [],
   "source": []
  },
  {
   "cell_type": "code",
   "execution_count": null,
   "id": "4f9ec412",
   "metadata": {},
   "outputs": [],
   "source": []
  }
 ],
 "metadata": {
  "kernelspec": {
   "display_name": "Python 3",
   "language": "python",
   "name": "python3"
  },
  "papermill": {
   "default_parameters": {},
   "duration": 71.502717,
   "end_time": "2021-11-29T13:51:28.321502",
   "environment_variables": {},
   "exception": null,
   "input_path": "__notebook__.ipynb",
   "output_path": "__notebook__.ipynb",
   "parameters": {},
   "start_time": "2021-11-29T13:50:16.818785",
   "version": "2.3.3"
  }
 },
 "nbformat": 4,
 "nbformat_minor": 5
}
